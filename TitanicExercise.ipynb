{
 "cells": [
  {
   "cell_type": "code",
   "execution_count": 47,
   "metadata": {},
   "outputs": [
    {
     "name": "stdout",
     "output_type": "stream",
     "text": [
      "(891, 14)\n"
     ]
    }
   ],
   "source": [
    "import numpy as np\n",
    "import scipy\n",
    "import pandas as pd\n",
    "%matplotlib inline\n",
    "import matplotlib.pyplot as plt\n",
    "from sklearn.base import BaseEstimator, TransformerMixin\n",
    "from sklearn.pipeline import Pipeline\n",
    "from sklearn.preprocessing import StandardScaler\n",
    "from sklearn.impute import SimpleImputer\n",
    "from sklearn.compose import ColumnTransformer\n",
    "\n",
    "\n",
    "TITANIC_TRAINING_PATH = \"datasets/Titanic/train.csv\"\n",
    "TITANIC_TESTING_PATH = \"datasets/Titanic/test.csv\"\n",
    "\n",
    "\n",
    "import warnings\n",
    "warnings.filterwarnings('ignore')\n",
    "\n",
    "def load_titanic_data(titanic_path = TITANIC_TRAINING_PATH):\n",
    "    return pd.read_csv(titanic_path)\n",
    "\n",
    "tit_test_data = load_titanic_data(TITANIC_TESTING_PATH)\n",
    "tit_data = load_titanic_data()\n",
    "\n",
    "tit_data2 = tit_data.copy()\n",
    "y_train = (tit_data2[\"Survived\"]).values\n",
    "\n",
    "\n",
    "\n",
    "#making classes to use in a pipeline\n",
    "#Tackling Ticket to make TktNum and TktPre and dropping ticket column\n",
    "class Tackling_Ticket(BaseEstimator, TransformerMixin):\n",
    "    def __init__(self):\n",
    "        pass\n",
    "    def fit(self, x2, y=None):\n",
    "        return self\n",
    "    def transform(self, x2, y=None):\n",
    "        #appending an 'X' for tickets with no prefix and making two new columns\n",
    "        x2['Ticket'] = x2['Ticket'].apply(lambda x: x.replace(' ','', 1) if len(x.split()) == 3 else x)\n",
    "        x2['Ticket'] = x2['Ticket'].apply(lambda x: ('X ' + x ) if len(x.split()) == 1 else x)\n",
    "        x2[['TktPre', 'TktNum']] = x2.Ticket.str.split(' ', expand = True)\n",
    "        x2[\"TktNum\"] = x2[\"TktNum\"].replace('LINE', 0)\n",
    "        x2.drop(['Ticket'], axis = 1, inplace = True)\n",
    "        return x2\n",
    "\n",
    "#Divind TktPre in categories so we can use dummies on them\n",
    "class categorizing_TktPre(BaseEstimator, TransformerMixin): \n",
    "    def __init__(self):\n",
    "        pass\n",
    "    def fit(self, x2, y=None):\n",
    "        return self\n",
    "    def transform(self, x2, y=None):\n",
    "        a = x2.TktPre.value_counts().index\n",
    "        cat1, cat2, cat3 = a[0], a[1:5], a[5:]\n",
    "        x2[\"TktPre\"] = x2[\"TktPre\"].apply(lambda x: (x in cat1 and 'cat1') or (x in cat2 and 'cat2') or 'cat3')\n",
    "        return x2\n",
    "\n",
    "#making dummies of the features\n",
    "class making_dummies(BaseEstimator, TransformerMixin):\n",
    "    def __init__(self):\n",
    "        pass\n",
    "    def fit(self, x2, y=None):\n",
    "        return self\n",
    "    def transform(self, x2, y=None):\n",
    "        string_feats = x2[['Sex', 'Embarked', 'TktPre']]\n",
    "        gd = pd.get_dummies(string_feats)\n",
    "        x2 = pd.concat([gd, x2.TktNum], axis = 1 )\n",
    "        return x2\n",
    "\n",
    "#DIviding features in numerical and categorical for Pipelines\n",
    "num_attribs = ['Pclass', 'Age', 'SibSp', 'Parch', 'Fare']\n",
    "cat_attribs = ['Sex', 'Embarked', 'Ticket']\n",
    "\n",
    "num_pipeline = Pipeline([\n",
    "        ('imputer', SimpleImputer(strategy = \"median\")),\n",
    "        ('std_scaler', StandardScaler())\n",
    "    ])\n",
    "\n",
    "\n",
    "cat_pipeline = Pipeline([\n",
    "        ('Tackling_Ticket', Tackling_Ticket()),\n",
    "        ('categorizing TktPre', categorizing_TktPre()),\n",
    "        ('Getting_dummies', making_dummies() )\n",
    "    ])\n",
    "\n",
    "full_pipeline = ColumnTransformer([\n",
    "        (\"num\", num_pipeline, num_attribs),\n",
    "        (\"cat\", cat_pipeline, cat_attribs),\n",
    "    ])\n",
    "\n",
    "\n",
    "data_prepared = full_pipeline.fit_transform(tit_data2)\n",
    "print(data_prepared.shape)\n",
    "columns_prepared = num_attribs + ['Sex_F','Sex_M', 'Em_C', 'Em_Q', 'Em_S', 'Tkt_cat1', 'Tkt_cat2', 'Tkt_cat3', 'TktNum' ]\n",
    "X_train = pd.DataFrame(data_prepared, columns = columns_prepared)\n",
    "\n",
    "testing_data_prepared = full_pipeline.fit_transform(tit_test_data)\n",
    "X_test = pd.DataFrame(testing_data_prepared, columns = columns_prepared)\n"
   ]
  },
  {
   "cell_type": "code",
   "execution_count": 45,
   "metadata": {},
   "outputs": [
    {
     "name": "stdout",
     "output_type": "stream",
     "text": [
      "training set before removing outliers  (891, 14)\n",
      "testing set before removing outliers  (418, 14)\n",
      "training set shape  (866, 14)\n",
      "training labels shape  (866,)\n",
      "testing set shape  (409, 14)\n"
     ]
    }
   ],
   "source": [
    "#Removing outliers\n",
    "\n",
    "from collections import Counter\n",
    "print(\"training set before removing outliers \", X_train.shape)\n",
    "print(\"testing set before removing outliers \", X_test.shape)\n",
    "\n",
    "#removing otliers from the data\n",
    "def remove_outlier_rows(f_name_array, given_number, data_name):\n",
    "    outlier_cols = []\n",
    "    \n",
    "    for one_col in f_name_array:\n",
    "        P1 = np.percentile(data_name[one_col], 25)\n",
    "        P2 = np.percentile(data_name[one_col], 75)\n",
    "        IQR = P2 - P1\n",
    "        outlier_step = 1.5 * IQR\n",
    "       \n",
    "        indices_outlier_rows = data_name[(data_name[one_col] > P2 + outlier_step) | (data_name[one_col] < P1 - outlier_step)].index\n",
    "        #print(X_train[(X_train[one_col] > P2 + IQR) | (X_train[one_col] < P1 - IQR)])\n",
    "        outlier_cols.extend(indices_outlier_rows)\n",
    "       \n",
    "    check = Counter(outlier_cols)\n",
    "    \n",
    "    rows_to_remove = [k for k,v in check.items() if v > given_number]\n",
    "    #print((rows_to_remove))\n",
    "\n",
    "    data_name.drop(rows_to_remove, inplace = True)\n",
    "    return rows_to_remove\n",
    "\n",
    "rows_removed_train = remove_outlier_rows([\"Age\", \"Parch\", \"SibSp\", \"Fare\"], 2, X_train)\n",
    "rows_removed_test = remove_outlier_rows([\"Age\", \"Parch\", \"SibSp\", \"Fare\"], 2, X_test)\n",
    "\n",
    "y_train = np.delete(y_train, rows_removed_train, 0)\n",
    "\n",
    "print(\"training set shape \",X_train.shape)\n",
    "print(\"training labels shape \", y_train.shape) \n",
    "\n",
    "print(\"testing set shape \", X_test.shape)"
   ]
  },
  {
   "cell_type": "code",
   "execution_count": 48,
   "metadata": {},
   "outputs": [
    {
     "data": {
      "text/plain": [
       "82.04264870931539"
      ]
     },
     "execution_count": 48,
     "metadata": {},
     "output_type": "execute_result"
    }
   ],
   "source": [
    "from sklearn.ensemble import RandomForestClassifier\n",
    "from sklearn.model_selection import cross_val_score, cross_val_predict\n",
    "\n",
    "forest_clf = RandomForestClassifier(random_state = 42)\n",
    "\n",
    "from sklearn.model_selection import RandomizedSearchCV\n",
    "from scipy.stats import randint\n",
    "params = {\n",
    "    'n_estimators': randint(100,500),\n",
    "     'max_features': randint(1, 11),\n",
    "     'oob_score' : [True]\n",
    "}\n",
    " \n",
    "newgridsearch = RandomizedSearchCV(forest_clf, param_distributions = params, n_iter=10, cv = 5, scoring='accuracy')\n",
    "r_grid_search = newgridsearch.fit(X_train, y_train)\n",
    "\n",
    "final_model = newgridsearch.best_estimator_\n",
    "frst_scrs = cross_val_score(final_model, X_train, y_train, cv = 3, scoring = \"accuracy\")\n",
    "#print(\"(Random Forest)\", frst_scrs)\n",
    "frst_scrs.mean()*100"
   ]
  },
  {
   "cell_type": "code",
   "execution_count": 13,
   "metadata": {
    "scrolled": true
   },
   "outputs": [
    {
     "data": {
      "text/plain": [
       "Text(0.5, 0, 'Pclass values')"
      ]
     },
     "execution_count": 13,
     "metadata": {},
     "output_type": "execute_result"
    },
    {
     "data": {
      "image/png": "[encoded data removed]",
      "text/plain": [
       "<Figure size 432x288 with 2 Axes>"
      ]
     },
     "metadata": {
      "needs_background": "light"
     },
     "output_type": "display_data"
    }
   ],
   "source": [
    "survivability_pclass = tit_data.groupby([\"Pclass\"])[\"Survived\"].mean()\n",
    "Pclass_values = tit_data.groupby([\"Pclass\"]).groups.keys()\n",
    "\n",
    "survivability_tktpre = tit_data2.groupby(['TktPre'])['Survived'].mean()\n",
    "TktPre_values = tit_data2.groupby(['TktPre']).groups.keys()\n",
    "\n",
    "plt.subplot(1,2,1)\n",
    "plt.bar(TktPre_values, survivability_tktpre)\n",
    "plt.ylabel('survivability')\n",
    "plt.xlabel('TicketCategories')\n",
    "plt.subplot(1,2,2)\n",
    "plt.bar(Pclass_values, survivability_pclass)\n",
    "plt.xlabel('Pclass values')"
   ]
  },
  {
   "cell_type": "code",
   "execution_count": 38,
   "metadata": {},
   "outputs": [
    {
     "data": {
      "text/plain": [
       "81.52753748558247"
      ]
     },
     "execution_count": 38,
     "metadata": {},
     "output_type": "execute_result"
    }
   ],
   "source": [
    "frst_scrs.mean()*100"
   ]
  },
  {
   "cell_type": "code",
   "execution_count": null,
   "metadata": {
    "scrolled": false
   },
   "outputs": [],
   "source": []
  },
  {
   "cell_type": "code",
   "execution_count": 43,
   "metadata": {},
   "outputs": [],
   "source": [
    "\n",
    "file_name = 'testing.csv'\n",
    "X_train.to_csv(file_name, sep='\\t')"
   ]
  },
  {
   "cell_type": "code",
   "execution_count": null,
   "metadata": {},
   "outputs": [],
   "source": [
    "\n"
   ]
  },
  {
   "cell_type": "code",
   "execution_count": null,
   "metadata": {},
   "outputs": [],
   "source": []
  },
  {
   "cell_type": "code",
   "execution_count": null,
   "metadata": {},
   "outputs": [],
   "source": []
  },
  {
   "cell_type": "code",
   "execution_count": null,
   "metadata": {},
   "outputs": [],
   "source": []
  }
 ],
 "metadata": {
  "kernelspec": {
   "display_name": "Python 3",
   "language": "python",
   "name": "python3"
  }
 },
 "nbformat": 4,
 "nbformat_minor": 1
}
