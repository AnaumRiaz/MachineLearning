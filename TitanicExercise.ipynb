{
 "cells": [
  {
   "cell_type": "code",
   "execution_count": 1,
   "metadata": {},
   "outputs": [
    {
     "name": "stdout",
     "output_type": "stream",
     "text": [
      "Index(['Pclass', 'Age', 'SibSp', 'Parch', 'Fare', 'TktNum', 'Sex_female',\n",
      "       'Sex_male', 'Embarked_C', 'Embarked_Q', 'Embarked_S', 'TktPre_cat1',\n",
      "       'TktPre_cat2', 'TktPre_cat3', 'TktPre_cat4'],\n",
      "      dtype='object')\n"
     ]
    }
   ],
   "source": [
    "import numpy as np\n",
    "import scipy\n",
    "import pandas as pd\n",
    "%matplotlib inline\n",
    "import matplotlib.pyplot as plt\n",
    "\n",
    "TITANIC_PATH = \"datasets/Titanic/train.csv\"\n",
    "\n",
    "\n",
    "import warnings\n",
    "warnings.filterwarnings('ignore')\n",
    "\n",
    "def load_titanic_data(titanic_path = TITANIC_PATH):\n",
    "    return pd.read_csv(TITANIC_PATH)\n",
    "\n",
    "tit_data = load_titanic_data()\n",
    "#print(tit_data.info)\n",
    "\n",
    "tit_data2 = tit_data.copy()\n",
    "\n",
    "#appending an 'X' for tickets with no prefix and making two new columns\n",
    "tit_data2['Ticket'] = tit_data2['Ticket'].apply(lambda x: x.replace(' ','', 1) if len(x.split()) == 3 else x)\n",
    "tit_data2['Ticket'] = tit_data2['Ticket'].apply(lambda x: ('X ' + x ) if len(x.split()) == 1 else x)\n",
    "tit_data2[['TktPre', 'TktNum']] = tit_data2.Ticket.str.split(' ', expand = True)\n",
    "tit_data2[\"TktNum\"] = tit_data2[\"TktNum\"].replace('LINE', 0)\n",
    "\n",
    "#Getting values for TktPre for getting dummies\n",
    "a = tit_data2.TktPre.value_counts().index\n",
    "cat1, cat2, cat3, cat4 = a[0], a[1:5], a[5:16], a[16:]\n",
    "tit_data2[\"TktPre\"] = tit_data2[\"TktPre\"].apply(lambda x: (x in cat1 and 'cat1') or (x in cat2 and 'cat2') or (x in cat3 and 'cat3') or 'cat4')\n",
    "\n",
    "\n",
    "#separating labels and training, randomizing the sequence of the samples\n",
    "\n",
    "X_train = tit_data2.values\n",
    "y_train = (tit_data2[\"Survived\"]).values\n",
    "\n",
    "#shuffle_index = np.random.permutation(891)    #0 to 890\n",
    "#X_train, y_train = X_train[shuffle_index], y_train[shuffle_index]\n",
    "X_train = pd.DataFrame(X_train, columns = tit_data2.columns)\n",
    "\n",
    "#making dummy variables for the string features\n",
    "string_feats = X_train[['Sex', 'Embarked', 'TktPre']]\n",
    "gd = pd.get_dummies(string_feats, prefix = ['Sex', 'Embarked', 'TktPre'])\n",
    "\n",
    "\n",
    "#joining dummies and originals\n",
    "X_train.drop([\"Sex\", \"Embarked\", \"Cabin\", \"Name\", \"Survived\", \"Name\", \"Ticket\", \"PassengerId\", \"TktPre\"], axis = 1, inplace = True)\n",
    "X_train = pd.concat([X_train, gd], axis = 1 )\n",
    "\n",
    "#putting median age in the Nans\n",
    "X_train['Age'].fillna(X_train['Age'].mean(), inplace=True)\n",
    "\n",
    "print(X_train.columns)"
   ]
  },
  {
   "cell_type": "code",
   "execution_count": 2,
   "metadata": {},
   "outputs": [
    {
     "name": "stdout",
     "output_type": "stream",
     "text": [
      "training set before removing outliers  (891, 15)\n",
      "training set shape  (866, 15)\n",
      "training labels shape  (866,)\n"
     ]
    }
   ],
   "source": [
    "#Removing outliers\n",
    "\n",
    "from collections import Counter\n",
    "print(\"training set before removing outliers \", X_train.shape)\n",
    "\n",
    "#removing otliers from the data\n",
    "def remove_outlier_rows(f_name_array, given_number):\n",
    "    outlier_cols = []\n",
    "    \n",
    "    for one_col in f_name_array:\n",
    "        P1 = np.percentile(X_train[one_col], 25)\n",
    "        P2 = np.percentile(X_train[one_col], 75)\n",
    "        IQR = P2 - P1\n",
    "        outlier_step = 1.5 * IQR\n",
    "       \n",
    "        indices_outlier_rows = X_train[(X_train[one_col] > P2 + outlier_step) | (X_train[one_col] < P1 - outlier_step)].index\n",
    "        #print(X_train[(X_train[one_col] > P2 + IQR) | (X_train[one_col] < P1 - IQR)])\n",
    "        outlier_cols.extend(indices_outlier_rows)\n",
    "       \n",
    "    check = Counter(outlier_cols)\n",
    "    \n",
    "    rows_to_remove = [k for k,v in check.items() if v > given_number]\n",
    "    #print((rows_to_remove))\n",
    "\n",
    "    X_train.drop(rows_to_remove, inplace = True)\n",
    "    return rows_to_remove\n",
    "\n",
    "rows_removed = remove_outlier_rows([\"Age\", \"Parch\", \"SibSp\", \"Fare\"], 2)\n",
    "y_train = np.delete(y_train, rows_removed, 0)\n",
    "print(\"training set shape \",X_train.shape)\n",
    "print(\"training labels shape \", y_train.shape) \n"
   ]
  },
  {
   "cell_type": "code",
   "execution_count": 3,
   "metadata": {},
   "outputs": [
    {
     "name": "stdout",
     "output_type": "stream",
     "text": [
      "(SGD non scaled) [0.38754325 0.60553633 0.61111111]\n",
      "(Random Forest unscaled) [0.79584775 0.79930796 0.81597222]\n",
      "(Random Forest scaled) [0.77854671 0.8200692  0.81944444]\n"
     ]
    }
   ],
   "source": [
    "\n",
    "# X_train[\"fam_size\"] = X_train[\"SibSp\"] + X_train[\"Parch\"]\n",
    "# X_train.drop([\"PassengerId\", \"SibSp\", \"Parch\"], axis = 1, inplace = True)\n",
    "\n",
    "\n",
    "from sklearn.model_selection import cross_val_score, cross_val_predict\n",
    "from sklearn.linear_model import SGDClassifier\n",
    "from sklearn.ensemble import RandomForestClassifier\n",
    "\n",
    "sgd_clf = SGDClassifier()\n",
    "sgd_scrs = cross_val_score(sgd_clf, X_train, y_train, cv = 3, scoring = \"accuracy\")\n",
    "y_train_pred = cross_val_predict(sgd_clf, X_train, y_train, cv=3)\n",
    "print(\"(SGD non scaled)\", sgd_scrs)\n",
    "\n",
    "\n",
    "#using randomforestclassifier unscaled\n",
    "forest_clf = RandomForestClassifier(random_state = 42)\n",
    "frst_scrs = cross_val_score(forest_clf, X_train, y_train, cv = 3, scoring = \"accuracy\")\n",
    "print(\"(Random Forest unscaled)\", frst_scrs)\n",
    "\n",
    "\n",
    "# #using standard scalar\n",
    "from sklearn.preprocessing import StandardScaler\n",
    "scaler = StandardScaler()\n",
    "X_train[['Pclass', 'Age', 'SibSp', 'Parch', 'Fare', 'TktNum']] = scaler.fit_transform(X_train[['Pclass', 'Age', 'SibSp', 'Parch', 'Fare', 'TktNum']].astype(np.float64))\n",
    "\n",
    "# #using randomforestclassifier scaled\n",
    "forest_clf = RandomForestClassifier(n_estimators = 100, random_state = 42)\n",
    "frst_scrs = cross_val_score(forest_clf, X_train, y_train, cv = 3, scoring = \"accuracy\")\n",
    "print(\"(Random Forest scaled)\", frst_scrs)\n"
   ]
  },
  {
   "cell_type": "code",
   "execution_count": 5,
   "metadata": {
    "scrolled": true
   },
   "outputs": [
    {
     "data": {
      "text/plain": [
       "<BarContainer object of 3 artists>"
      ]
     },
     "execution_count": 5,
     "metadata": {},
     "output_type": "execute_result"
    },
    {
     "data": {
      "image/png": "[encoded data removed]",
      "text/plain": [
       "<Figure size 432x288 with 2 Axes>"
      ]
     },
     "metadata": {
      "needs_background": "light"
     },
     "output_type": "display_data"
    }
   ],
   "source": [
    "survivability_pclass = tit_data.groupby([\"Pclass\"])[\"Survived\"].mean()\n",
    "Pclass_values = tit_data.groupby([\"Pclass\"]).groups.keys()\n",
    "\n",
    "survivability_tktpre = tit_data2.groupby(['TktPre'])['Survived'].mean()\n",
    "TktPre_values = tit_data2.groupby(['TktPre']).groups.keys()\n",
    "\n",
    "plt.subplot(1,2,1)\n",
    "plt.bar(TktPre_values, survivability_tktpre)\n",
    "plt.subplot(1,2,2)\n",
    "plt.bar(Pclass_values, survivability_pclass)\n",
    "plt.ylabel('surv'"
   ]
  },
  {
   "cell_type": "code",
   "execution_count": null,
   "metadata": {},
   "outputs": [],
   "source": [
    "from sklearn.ensemble import RandomForestClassifier\n",
    "\n",
    "forest_clf = RandomForestClassifier(random_state = 42)\n",
    "\n",
    "from sklearn.model_selection import RandomizedSearchCV\n",
    "from scipy.stats import randint\n",
    "params = {\n",
    "    'n_estimators': randint(100,500),\n",
    "     'max_features': randint(1, 11)\n",
    "}\n",
    " \n",
    "newgridsearch = RandomizedSearchCV(forest_clf, param_distributions = params, n_iter=10, cv = 5, scoring='accuracy')\n",
    "r_grid_search = newgridsearch.fit(X_train, y_train)\n",
    "r_cv = r_grid_search.cv_results_\n",
    "\n",
    "for score, params in zip(r_cv[\"mean_test_score\"], r_cv[\"params\"]):\n",
    "    print(score, params)"
   ]
  },
  {
   "cell_type": "code",
   "execution_count": null,
   "metadata": {
    "scrolled": false
   },
   "outputs": [],
   "source": []
  },
  {
   "cell_type": "code",
   "execution_count": null,
   "metadata": {},
   "outputs": [],
   "source": [
    "# tit_data2survivability = tit_data.groupby([\"Pclass\"])[\"Survived\"].mean()\n",
    "# Pclass_values = tit_data.groupby([\"Pclass\"]).groups.keys()\n",
    "# # print(a)\n",
    "# # at = [len(v) for k,v in te.groups.items()]\n",
    "# # at\n",
    "# plt.bar(Pclass_values, survivability)\n",
    "\n"
   ]
  },
  {
   "cell_type": "code",
   "execution_count": null,
   "metadata": {},
   "outputs": [],
   "source": []
  },
  {
   "cell_type": "code",
   "execution_count": null,
   "metadata": {},
   "outputs": [],
   "source": []
  },
  {
   "cell_type": "code",
   "execution_count": null,
   "metadata": {},
   "outputs": [],
   "source": []
  },
  {
   "cell_type": "code",
   "execution_count": null,
   "metadata": {},
   "outputs": [],
   "source": []
  }
 ],
 "metadata": {
  "kernelspec": {
   "display_name": "Python 3",
   "language": "python",
   "name": "python3"
  },
  "language_info": {
   "codemirror_mode": {
    "name": "ipython",
    "version": 3
   },
   "file_extension": ".py",
   "mimetype": "text/x-python",
   "name": "python",
   "nbconvert_exporter": "python",
   "pygments_lexer": "ipython3",
   "version": "3.6.7"
  }
 },
 "nbformat": 4,
 "nbformat_minor": 1
}
