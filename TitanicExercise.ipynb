{
 "cells": [
  {
   "cell_type": "code",
   "execution_count": 235,
   "metadata": {},
   "outputs": [
    {
     "name": "stdout",
     "output_type": "stream",
     "text": [
      "Index(['PassengerId', 'Pclass', 'Age', 'SibSp', 'Parch', 'Fare', 'Sex_female',\n",
      "       'Sex_male', 'Embarked_C', 'Embarked_Q', 'Embarked_S'],\n",
      "      dtype='object')\n"
     ]
    }
   ],
   "source": [
    "import numpy as np\n",
    "import scipy\n",
    "import pandas as pd\n",
    "%matplotlib inline\n",
    "import matplotlib.pyplot as plt\n",
    "\n",
    "TITANIC_PATH = \"datasets/Titanic/train.csv\"\n",
    "\n",
    "\n",
    "import warnings\n",
    "warnings.filterwarnings('ignore')\n",
    "\n",
    "def load_titanic_data(titanic_path = TITANIC_PATH):\n",
    "    return pd.read_csv(TITANIC_PATH)\n",
    "\n",
    "tit_data = load_titanic_data()\n",
    "#print(tit_data.info)\n",
    "\n",
    "#separating labels and training, randomizing the sequence of the samples\n",
    "tit_data2 = tit_data.copy()\n",
    "X_train_df = (tit_data2.drop([\"Survived\", \"Name\"], axis = 1))\n",
    "X_train = X_train_df.values\n",
    "y_train = (tit_data[\"Survived\"]).values\n",
    "shuffle_index = np.random.permutation(891)    #0 to 890\n",
    "X_train, y_train = X_train[shuffle_index], y_train[shuffle_index]\n",
    "\n",
    "\n",
    "cols = X_train_df.columns\n",
    "X_train = pd.DataFrame(X_train, columns = cols)\n",
    "\n",
    "\n",
    "#making dummy variables for the string features\n",
    "string_feats = X_train.iloc[:, [2, 9]]\n",
    "gd = pd.get_dummies(string_feats, prefix = ['Sex', 'Embarked'])\n",
    "\n",
    "\n",
    "#joining dummies and originals\n",
    "X_train.drop([\"Sex\", \"Embarked\", \"Cabin\", \"Ticket\"], axis = 1, inplace = True)\n",
    "X_train = pd.concat([X_train, gd], axis = 1 )\n",
    "\n",
    "\n",
    "#putting median age in the Nans\n",
    "from sklearn.impute import SimpleImputer\n",
    "imp_med = SimpleImputer(missing_values=np.nan, strategy='median')\n",
    "X_train_imp = imp_med.fit_transform(X_train)\n",
    "X_train = pd.DataFrame(X_train_imp, columns = X_train.columns)\n",
    "print(X_train.columns)"
   ]
  },
  {
   "cell_type": "code",
   "execution_count": 236,
   "metadata": {},
   "outputs": [
    {
     "name": "stdout",
     "output_type": "stream",
     "text": [
      "training set before removing outliers  (891, 11)\n",
      "training set shape  (866, 11)\n",
      "training labels shape  (866,)\n"
     ]
    }
   ],
   "source": [
    "#Removing outliers\n",
    "\n",
    "from collections import Counter\n",
    "print(\"training set before removing outliers \", X_train.shape)\n",
    "\n",
    "#removing otliers from the data\n",
    "def remove_outlier_rows(f_name_array, given_number):\n",
    "    outlier_cols = []\n",
    "    \n",
    "    for one_col in f_name_array:\n",
    "        P1 = np.percentile(X_train[one_col], 25)\n",
    "        P2 = np.percentile(X_train[one_col], 75)\n",
    "        IQR = P2 - P1\n",
    "        outlier_step = 1.5 * IQR\n",
    "       \n",
    "        indices_outlier_rows = X_train[(X_train[one_col] > P2 + outlier_step) | (X_train[one_col] < P1 - outlier_step)].index\n",
    "        #print(X_train[(X_train[one_col] > P2 + IQR) | (X_train[one_col] < P1 - IQR)])\n",
    "        outlier_cols.extend(indices_outlier_rows)\n",
    "       \n",
    "    check = Counter(outlier_cols)\n",
    "    \n",
    "    rows_to_remove = [k for k,v in check.items() if v > given_number]\n",
    "    #print((rows_to_remove))\n",
    "\n",
    "    X_train.drop(rows_to_remove, inplace = True)\n",
    "    return rows_to_remove\n",
    "\n",
    "rows_removed = remove_outlier_rows([\"Age\", \"Parch\", \"SibSp\", \"Fare\"], 2)\n",
    "y_train = np.delete(y_train, rows_removed, 0)\n",
    "print(\"training set shape \",X_train.shape)\n",
    "print(\"training labels shape \", y_train.shape) \n",
    "\n"
   ]
  },
  {
   "cell_type": "code",
   "execution_count": 117,
   "metadata": {},
   "outputs": [
    {
     "name": "stdout",
     "output_type": "stream",
     "text": [
      "(SGD non scaled) [0.61937716 0.63321799 0.42013889]\n",
      "(SGD scaled) [0.70588235 0.75778547 0.75694444]\n",
      "(Random Forest unscaled) [0.80622837 0.79584775 0.82291667]\n",
      "(Random Forest scaled) [0.80276817 0.78200692 0.82986111]\n"
     ]
    }
   ],
   "source": [
    "\n",
    "# X_train[\"fam_size\"] = X_train[\"SibSp\"] + X_train[\"Parch\"]\n",
    "# X_train.drop([\"PassengerId\", \"SibSp\", \"Parch\"], axis = 1, inplace = True)\n",
    "\n",
    "\n",
    "from sklearn.model_selection import cross_val_score, cross_val_predict\n",
    "from sklearn.linear_model import SGDClassifier\n",
    "from sklearn.ensemble import RandomForestClassifier\n",
    "\n",
    "sgd_clf = SGDClassifier()\n",
    "sgd_scrs = cross_val_score(sgd_clf, X_train, y_train, cv = 3, scoring = \"accuracy\")\n",
    "y_train_pred = cross_val_predict(sgd_clf, X_train, y_train, cv=3)\n",
    "print(\"(SGD non scaled)\", sgd_scrs)\n",
    "\n",
    "#using standard scalar\n",
    "from sklearn.preprocessing import StandardScaler\n",
    "scaler = StandardScaler()\n",
    "X_train_scaled = scaler.fit_transform(X_train.astype(np.float64))\n",
    "sgd_scrs_scaled = cross_val_score(sgd_clf, X_train_scaled, y_train, cv = 3, scoring = \"accuracy\")\n",
    "print(\"(SGD scaled)\", sgd_scrs_scaled)\n",
    "\n",
    "#using randomforestclassifier unscaled\n",
    "forest_clf = RandomForestClassifier(random_state = 42)\n",
    "frst_scrs = cross_val_score(forest_clf, X_train, y_train, cv = 3, scoring = \"accuracy\")\n",
    "print(\"(Random Forest unscaled)\", frst_scrs)\n",
    "\n",
    "#using randomforestclassifier scaled\n",
    "forest_clf = RandomForestClassifier(n_estimators = 100, random_state = 42)\n",
    "frst_scrs = cross_val_score(forest_clf, X_train_scaled, y_train, cv = 3, scoring = \"accuracy\")\n",
    "print(\"(Random Forest scaled)\", frst_scrs)\n"
   ]
  },
  {
   "cell_type": "code",
   "execution_count": 122,
   "metadata": {
    "scrolled": true
   },
   "outputs": [
    {
     "data": {
      "text/plain": [
       "<BarContainer object of 3 artists>"
      ]
     },
     "execution_count": 122,
     "metadata": {},
     "output_type": "execute_result"
    },
    {
     "data": {
      "image/png": "[encoded data removed]",
      "text/plain": [
       "<Figure size 432x288 with 1 Axes>"
      ]
     },
     "metadata": {
      "needs_background": "light"
     },
     "output_type": "display_data"
    }
   ],
   "source": [
    "survivability = tit_data.groupby([\"Pclass\"])[\"Survived\"].mean()\n",
    "Pclass_values = tit_data.groupby([\"Pclass\"]).groups.keys()\n",
    "# print(a)\n",
    "# at = [len(v) for k,v in te.groups.items()]\n",
    "# at\n",
    "plt.bar(Pclass_values, survivability)\n"
   ]
  },
  {
   "cell_type": "code",
   "execution_count": 128,
   "metadata": {},
   "outputs": [
    {
     "name": "stdout",
     "output_type": "stream",
     "text": [
      "0.8163972286374134 {'max_features': 2, 'n_estimators': 356}\n",
      "0.8163972286374134 {'max_features': 10, 'n_estimators': 477}\n",
      "0.8210161662817552 {'max_features': 3, 'n_estimators': 477}\n",
      "0.8163972286374134 {'max_features': 10, 'n_estimators': 312}\n",
      "0.8290993071593533 {'max_features': 6, 'n_estimators': 228}\n",
      "0.8267898383371824 {'max_features': 6, 'n_estimators': 263}\n",
      "0.8175519630484989 {'max_features': 2, 'n_estimators': 372}\n",
      "0.812933025404157 {'max_features': 1, 'n_estimators': 349}\n",
      "0.8210161662817552 {'max_features': 2, 'n_estimators': 407}\n",
      "0.8175519630484989 {'max_features': 9, 'n_estimators': 308}\n"
     ]
    }
   ],
   "source": [
    "from sklearn.ensemble import RandomForestClassifier\n",
    "\n",
    "forest_clf = RandomForestClassifier(random_state = 42)\n",
    "\n",
    "from sklearn.model_selection import RandomizedSearchCV\n",
    "from scipy.stats import randint\n",
    "params = {\n",
    "    'n_estimators': randint(100,500),\n",
    "     'max_features': randint(1, 11)\n",
    "}\n",
    " \n",
    "newgridsearch = RandomizedSearchCV(forest_clf, param_distributions = params, n_iter=10, cv = 5, scoring='accuracy')\n",
    "r_grid_search = newgridsearch.fit(X_train, y_train)\n",
    "r_cv = r_grid_search.cv_results_\n",
    "\n",
    "for score, params in zip(r_cv[\"mean_test_score\"], r_cv[\"params\"]):\n",
    "    print(score, params)"
   ]
  },
  {
   "cell_type": "code",
   "execution_count": 237,
   "metadata": {
    "scrolled": false
   },
   "outputs": [],
   "source": [
    "#a = tit_data.Ticket.str.split(\" \", expand = True)[0]\n",
    "#appending an 'X' for tickets with no prefix\n",
    "tit_data['Ticket'] = tit_data['Ticket'].apply(lambda x: x.replace(' ','', 1) if len(x.split()) == 3 else x)\n",
    "tit_data['Ticket'] = tit_data['Ticket'].apply(lambda x: ('X ' + x ) if len(x.split()) == 1 else x)\n",
    "\n",
    "tit_data[['TktPre', 'TktNum']] = tit_data.Ticket.str.split(' ', expand = True)\n"
   ]
  },
  {
   "cell_type": "code",
   "execution_count": 238,
   "metadata": {},
   "outputs": [
    {
     "data": {
      "text/plain": [
       "Series([], dtype: int64)"
      ]
     },
     "execution_count": 238,
     "metadata": {},
     "output_type": "execute_result"
    }
   ],
   "source": [
    "a = lambda x: len(x.Ticket.split())\n",
    "a2 = tit_data.apply(a, axis=1)\n",
    "a2[a2 != 2]\n"
   ]
  },
  {
   "cell_type": "code",
   "execution_count": 227,
   "metadata": {},
   "outputs": [
    {
     "data": {
      "text/plain": [
       "'SC/AH Basle 541'"
      ]
     },
     "execution_count": 227,
     "metadata": {},
     "output_type": "execute_result"
    }
   ],
   "source": [
    "tit_data.Ticket[473]"
   ]
  },
  {
   "cell_type": "code",
   "execution_count": null,
   "metadata": {},
   "outputs": [],
   "source": [
    "'STON/O 2. 3101280'"
   ]
  },
  {
   "cell_type": "code",
   "execution_count": 233,
   "metadata": {},
   "outputs": [
    {
     "data": {
      "text/plain": [
       "'.example.com.nomi'"
      ]
     },
     "execution_count": 233,
     "metadata": {},
     "output_type": "execute_result"
    }
   ],
   "source": [
    "'www.example.com.nomi'.strip('omw')\n"
   ]
  },
  {
   "cell_type": "code",
   "execution_count": null,
   "metadata": {},
   "outputs": [],
   "source": []
  }
 ],
 "metadata": {
  "kernelspec": {
   "display_name": "Python 3",
   "language": "python",
   "name": "python3"
  },
  "language_info": {
   "codemirror_mode": {
    "name": "ipython",
    "version": 3
   },
   "file_extension": ".py",
   "mimetype": "text/x-python",
   "name": "python",
   "nbconvert_exporter": "python",
   "pygments_lexer": "ipython3",
   "version": "3.6.7"
  }
 },
 "nbformat": 4,
 "nbformat_minor": 1
}
