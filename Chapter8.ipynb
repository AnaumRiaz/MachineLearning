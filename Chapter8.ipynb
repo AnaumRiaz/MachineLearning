{
 "cells": [
  {
   "cell_type": "code",
   "execution_count": 30,
   "metadata": {},
   "outputs": [],
   "source": [
    "import numpy as np\n",
    "\n",
    "np.random.seed(4)\n",
    "m = 60\n",
    "w1, w2 = 0.1, 0.3\n",
    "noise = 0.1\n",
    "\n",
    "angles = np.random.rand(m) * 3 * np.pi / 2 - 0.5\n",
    "X = np.empty((m, 3))\n",
    "X[:, 0] = np.cos(angles) + np.sin(angles)/2 + noise * np.random.randn(m) / 2\n",
    "X[:, 1] = np.sin(angles) * 0.7 + noise * np.random.randn(m) / 2\n",
    "X[:, 2] = X[:, 0] * w1 + X[:, 1] * w2 + noise * np.random.randn(m)\n",
    "\n",
    "X_centered = X - X.mean(axis=0)\n",
    "U, s, Vt = np.linalg.svd(X_centered)\n",
    "c1 = Vt.T[:, 0]    #first principal compoment and c2 is second\n",
    "c2 = Vt.T[:, 1]\n",
    "\n",
    "W2 = Vt.T[:,:2]\n",
    "X2D = X_centered.dot(W2)\n",
    "\n"
   ]
  },
  {
   "cell_type": "code",
   "execution_count": 49,
   "metadata": {},
   "outputs": [
    {
     "data": {
      "text/plain": [
       "array([0.84248607, 0.14631839])"
      ]
     },
     "execution_count": 49,
     "metadata": {},
     "output_type": "execute_result"
    }
   ],
   "source": [
    "#Using ScikitLearns method\n",
    "from sklearn.decomposition import PCA\n",
    "\n",
    "pca = PCA(n_components = 2)\n",
    "X2D = pca.fit_transform(X)\n",
    "pca.explained_variance_ratio_\n",
    "\n",
    "#to use explained variance ratio\n",
    "new_pca = PCA()\n",
    "new_pca.fit(X)\n",
    "cumsum = np.cumsum(new_pca.explained_variance_ratio_)\n",
    "print(cumsum)\n",
    "d = np.argmax(cumsum >= .95) + 1 #this the number of dimensions we should reduce to keep maximum variance"
   ]
  },
  {
   "cell_type": "code",
   "execution_count": 61,
   "metadata": {},
   "outputs": [],
   "source": [
    "pca = PCA(n_components = 0.95)\n",
    "X_reduced = pca.fit_transform(X)\n"
   ]
  },
  {
   "cell_type": "code",
   "execution_count": 63,
   "metadata": {},
   "outputs": [
    {
     "name": "stdout",
     "output_type": "stream",
     "text": [
      "(70000, 154)\n"
     ]
    },
    {
     "data": {
      "text/plain": [
       "(70000, 784)"
      ]
     },
     "execution_count": 63,
     "metadata": {},
     "output_type": "execute_result"
    }
   ],
   "source": [
    "#using mnist dataset\n",
    "\n",
    "try:\n",
    "    from sklearn.datasets import fetch_openml\n",
    "    mnist = fetch_openml('mnist_784', version=1, cache=True)\n",
    "except ImportError:\n",
    "    from sklearn.datasets import fetch_mldata\n",
    "    mnist = fetch_mldata('MNIST original')\n",
    "\n",
    "X = mnist.data\n",
    "y = mnist.target\n",
    "\n",
    "\n",
    "pca = PCA(n_components = 0.95)\n",
    "X_reduced = pca.fit_transform(X)\n",
    "print(X_reduced.shape)\n",
    "X_recovered = pca.inverse_transform(X_reduced)\n",
    "X_recovered.shape"
   ]
  },
  {
   "cell_type": "code",
   "execution_count": 65,
   "metadata": {},
   "outputs": [
    {
     "name": "stdout",
     "output_type": "stream",
     "text": [
      "...................................................................................................."
     ]
    }
   ],
   "source": [
    "from sklearn.decomposition import IncrementalPCA\n",
    "\n",
    "X_train, y_train = mnist.data[:40000,:], mnist.target[:40000]\n",
    "X_val, y_val = mnist.data[40000:50000, :],  mnist.target[40000:50000]\n",
    "X_test, y_test = mnist.data[50000:, :], mnist.target[50000:]\n",
    "\n",
    "\n",
    "\n",
    "n_batches = 100\n",
    "inc_pca = IncrementalPCA(n_components=154)\n",
    "for X_batch in np.array_split(X_train, n_batches):\n",
    "    print(\".\", end=\"\") # not shown in the book\n",
    "    inc_pca.partial_fit(X_batch)\n",
    "\n",
    "X_reduced = inc_pca.transform(X_train)"
   ]
  },
  {
   "cell_type": "code",
   "execution_count": null,
   "metadata": {},
   "outputs": [],
   "source": [
    "from sklearn.datasets import make_swiss_roll\n",
    "X, t = make_swiss_roll(n_samples=1000, noise=0.2, random_state=42)\n",
    "\n",
    "rbf_pca = KernelPCA(n_components = 2, kernel=\"rbf\", gamma=0.04)\n",
    "X_reduced = rbf_pca.fit_transform(X)"
   ]
  },
  {
   "cell_type": "code",
   "execution_count": 6,
   "metadata": {},
   "outputs": [
    {
     "name": "stdout",
     "output_type": "stream",
     "text": [
      "Time for Randomforest on all features: 4.0 seconds\n",
      "Testing score:  0.9492\n"
     ]
    }
   ],
   "source": [
    "#Question 9\n",
    "\n",
    "from sklearn.ensemble import RandomForestClassifier\n",
    "import time\n",
    "\n",
    "\n",
    "try:\n",
    "    from sklearn.datasets import fetch_openml\n",
    "    mnist = fetch_openml('mnist_784', version=1, cache=True)\n",
    "except ImportError:\n",
    "    from sklearn.datasets import fetch_mldata\n",
    "    mnist = fetch_mldata('MNIST original')\n",
    "\n",
    "X_train_f, y_train_f = mnist.data[:60000,:], mnist.target[:60000]\n",
    "X_val_f, y_val_f = mnist.data[40000:50000, :],  mnist.target[40000:50000]\n",
    "X_test_f, y_test_f = mnist.data[60000:, :], mnist.target[60000:]\n",
    "\n"
   ]
  },
  {
   "cell_type": "code",
   "execution_count": 12,
   "metadata": {},
   "outputs": [
    {
     "name": "stdout",
     "output_type": "stream",
     "text": [
      "Time for Randomforest on all features: 4.0 seconds\n",
      "Testing score:  0.9492\n",
      "Number of components returned:  154\n",
      "Time for Randomforest on reduced features: 14.2 seconds\n",
      "testing score:  0.9009\n"
     ]
    }
   ],
   "source": [
    "#Trying with Randomforest classifier\n",
    "\n",
    "rnd_clf = RandomForestClassifier(n_estimators = 10,  random_state = 42)\n",
    "t1 = time.time()\n",
    "rnd_clf.fit(X_train_f, y_train_f)\n",
    "t2 = time.time()\n",
    "print(\"Time for Randomforest on all features: {:.1f} seconds\".format(t2 - t1))\n",
    "\n",
    "print('Testing score: ', rnd_clf.score(X_test_f, y_test_f))\n",
    "\n",
    "\n",
    "from sklearn.decomposition import PCA\n",
    "rnd_clf2 = RandomForestClassifier(n_estimators = 10, random_state = 42)\n",
    "\n",
    "pca = PCA(n_components = 0.95)\n",
    "X_reduced = pca.fit_transform(X_train_f)\n",
    "\n",
    "print('Number of components returned: ', pca.n_components_)\n",
    "#pca_test = PCA(n_components = pca.n_components_)\n",
    "#X_test_reduced = pca_test.fit_transform(X_test_f)\n",
    "X_test_reduced = pca.transform(X_test_f)\n",
    "\n",
    "t3 = time.time()\n",
    "rnd_clf2.fit(X_reduced, y_train_f)\n",
    "t4 = time.time()\n",
    "print(\"Time for Randomforest on reduced features: {:.1f} seconds\".format(t4 - t3))\n",
    "print('testing score: ', rnd_clf2.score(X_test_reduced, y_test_f))\n",
    "\n",
    "#Results: PCA is actually reducing accuracy and increasing time. so lets try another algo"
   ]
  },
  {
   "cell_type": "code",
   "execution_count": 11,
   "metadata": {},
   "outputs": [
    {
     "name": "stdout",
     "output_type": "stream",
     "text": [
      "Time for MLP on all features: 216.6 seconds\n",
      "Testing score:  0.9655\n",
      "Number of components returned:  154\n",
      "Time for Randomforest on reduced features: 64.1 seconds\n",
      "testing score:  0.9716\n"
     ]
    }
   ],
   "source": [
    "#Trying with MLP\n",
    "from sklearn.neural_network import MLPClassifier\n",
    "mlp_clf = MLPClassifier(random_state = 42)\n",
    "mlp_clf2 = MLPClassifier(random_state = 42)\n",
    "\n",
    "t1 = time.time()\n",
    "mlp_clf.fit(X_train_f, y_train_f)\n",
    "t2 = time.time()\n",
    "print(\"Time for MLP on all features: {:.1f} seconds\".format(t2 - t1))\n",
    "\n",
    "print('Testing score: ', mlp_clf.score(X_test_f, y_test_f))\n",
    "\n",
    "\n",
    "from sklearn.decomposition import PCA\n",
    "\n",
    "pca = PCA(n_components = 0.95)\n",
    "X_reduced = pca.fit_transform(X_train_f)\n",
    "\n",
    "print('Number of components returned: ', pca.n_components_)\n",
    "X_test_reduced = pca.transform(X_test_f)\n",
    "\n",
    "t3 = time.time()\n",
    "mlp_clf2.fit(X_reduced, y_train_f)\n",
    "t4 = time.time()\n",
    "print(\"Time for Randomforest on reduced features: {:.1f} seconds\".format(t4 - t3))\n",
    "print('testing score: ', mlp_clf2.score(X_test_reduced, y_test_f))\n",
    "\n",
    "#Results: PCA is actually reducing accuracy and increasing time. so lets try another algo"
   ]
  },
  {
   "cell_type": "code",
   "execution_count": null,
   "metadata": {},
   "outputs": [],
   "source": []
  }
 ],
 "metadata": {
  "kernelspec": {
   "display_name": "Python 3",
   "language": "python",
   "name": "python3"
  },
  "language_info": {
   "codemirror_mode": {
    "name": "ipython",
    "version": 3
   },
   "file_extension": ".py",
   "mimetype": "text/x-python",
   "name": "python",
   "nbconvert_exporter": "python",
   "pygments_lexer": "ipython3",
   "version": "3.6.8"
  }
 },
 "nbformat": 4,
 "nbformat_minor": 2
}
