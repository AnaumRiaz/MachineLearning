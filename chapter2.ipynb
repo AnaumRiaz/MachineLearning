{
 "cells": [
  {
   "cell_type": "code",
   "execution_count": 1,
   "metadata": {},
   "outputs": [],
   "source": [
    "import os\n",
    "import tarfile\n",
    "from six.moves import urllib\n",
    "import hashlib\n",
    "import numpy as np\n",
    "\n",
    "DOWNLOAD_ROOT = \"https://raw.githubusercontent.com/ageron/handson-ml/master/\"\n",
    "HOUSING_PATH = \"datasets/housing\"\n",
    "HOUSING_URL = DOWNLOAD_ROOT + HOUSING_PATH +\"/housing.tgz\"\n",
    "\n",
    "def fetch_housing_data(housing_url = HOUSING_URL, housing_path = HOUSING_PATH):\n",
    "    if not os.path.isdir(housing_path):\n",
    "        os.makedirs(housing_path)\n",
    "    tgz_path = os.path.join(housing_path, \"housing.tgz\")\n",
    "    urllib.request.urlretrieve(housing_url, tgz_path)\n",
    "    housing_tgz = tarfile.open(tgz_path)\n",
    "    housing_tgz.extractall(path = housing_path)\n",
    "    housing_tgz.close()\n",
    "    \n",
    "fetch_housing_data(HOUSING_URL, HOUSING_PATH)\n",
    "    \n",
    "import pandas as pd\n",
    "def load_housing_data(housing_path = HOUSING_PATH):\n",
    "    csv_path = os.path.join (housing_path, \"housing.csv\")\n",
    "    return pd.read_csv(csv_path)\n",
    "\n",
    "housing = load_housing_data()\n",
    "\n",
    "#plotting the stuff\n",
    "%matplotlib inline\n",
    "import matplotlib.pyplot as plt\n",
    "#housing.hist(bins = 50, figsize = (20,15))\n",
    "#plt.show()"
   ]
  },
  {
   "cell_type": "code",
   "execution_count": 2,
   "metadata": {},
   "outputs": [],
   "source": [
    "#making median income in categories for simplification from continuous variable and putting all the maximum ones in 5\n",
    "#This category is made just to do stratified sampling on the basis of this category\n",
    "housing[\"income_cat\"] = np.ceil(housing[\"median_income\"]/1.5)\n",
    "housing[\"income_cat\"].where(housing[\"income_cat\"] < 5, 5.0, inplace = True)\n",
    "# housing.head()"
   ]
  },
  {
   "cell_type": "code",
   "execution_count": 3,
   "metadata": {},
   "outputs": [],
   "source": [
    "#Doing stratified sampling to make the training testing set\n",
    "from sklearn.model_selection import StratifiedShuffleSplit\n",
    "split = StratifiedShuffleSplit(n_splits = 1, test_size = 0.2, random_state = 42)\n",
    "\n",
    "for train_index, test_index in split.split(housing, housing[\"income_cat\"]):\n",
    "    strat_train_set = housing.loc[train_index]\n",
    "    strat_test_set= housing.loc[test_index]"
   ]
  },
  {
   "cell_type": "code",
   "execution_count": 4,
   "metadata": {},
   "outputs": [],
   "source": [
    "#now that we have divided the group, we drop the column income_cat from the database\n",
    "\n",
    "for set in (strat_train_set, strat_test_set):\n",
    "    set.drop([\"income_cat\"], axis = 1, inplace = True)\n",
    " "
   ]
  },
  {
   "cell_type": "code",
   "execution_count": 5,
   "metadata": {},
   "outputs": [],
   "source": [
    "#making a copy of training data \n",
    "#Now that we have visualized the data, we want to go back to the original data, make its copy and separate the data from target values (median housing valu\n",
    "housing = strat_train_set.copy()\n",
    "housing = strat_train_set.drop(\"median_house_value\", axis = 1)\n",
    "housing_labels = strat_train_set[\"median_house_value\"].copy()"
   ]
  },
  {
   "cell_type": "code",
   "execution_count": 6,
   "metadata": {},
   "outputs": [],
   "source": [
    "housing_num = housing.drop(\"ocean_proximity\", axis = 1)\n",
    "\n",
    "housing_cat = housing[\"ocean_proximity\"]\n"
   ]
  },
  {
   "cell_type": "code",
   "execution_count": 7,
   "metadata": {},
   "outputs": [],
   "source": [
    "#making our own transforms. adding two extra attribs like before. population_per_household amd rooms_per_household\n",
    "from sklearn.base import BaseEstimator, TransformerMixin\n",
    "\n",
    "rooms_ix , bedrooms_ix, population_ix, household_ix = 3, 4, 5, 6\n",
    "#print(housing_tr.head())\n",
    "#print(housing_tr.info())\n",
    "\n",
    "class CombinedAttributesAdder(BaseEstimator,TransformerMixin):\n",
    "    def __init__(self, add_bedrooms_per_room = True):\n",
    "        self.add_bedrooms_per_room = add_bedrooms_per_room\n",
    "        \n",
    "    def fit(self, X, y = None):\n",
    "        return self\n",
    "    \n",
    "    def transform(self, X, y = None):\n",
    "        rooms_per_household = X[:, rooms_ix] / X[:, household_ix]\n",
    "        population_per_household = X[:, population_ix]/ X[:,household_ix]\n",
    "        if self.add_bedrooms_per_room:\n",
    "            bedrooms_per_room = X[:, bedrooms_ix]/ X[:, rooms_ix]\n",
    "            return np.c_[X,rooms_per_household, population_per_household, bedrooms_per_room]\n",
    "        else:\n",
    "            return np.c_[X, rooms_per_household, population_per_household]\n",
    "\n"
   ]
  },
  {
   "cell_type": "code",
   "execution_count": 9,
   "metadata": {},
   "outputs": [
    {
     "name": "stdout",
     "output_type": "stream",
     "text": [
      "<class 'numpy.ndarray'>\n"
     ]
    }
   ],
   "source": [
    "from sklearn.pipeline import Pipeline\n",
    "from sklearn.preprocessing import StandardScaler\n",
    "from sklearn.impute import SimpleImputer\n",
    "from sklearn.compose import ColumnTransformer\n",
    "\n",
    "\n",
    "cats = housing.ocean_proximity.unique()\n",
    "num_attribs = list(housing_num)\n",
    "cat_attribs = [\"ocean_proximity\"]\n",
    "\n",
    "class MyLabelBinarizer(BaseEstimator, TransformerMixin):\n",
    "    def __init__(self):\n",
    "        pass\n",
    "    def fit(self, x, y=None):\n",
    "        return self\n",
    "    def transform(self, x, y=None):\n",
    "        x = x.astype(pd.api.types.CategoricalDtype(categories = cats))\n",
    "        dummies = pd.get_dummies(x)\n",
    "        return dummies\n",
    "\n",
    "\n",
    "num_pipeline = Pipeline([\n",
    "        ('imputer', SimpleImputer(strategy = \"median\")),\n",
    "        ('attribs_adder', CombinedAttributesAdder()),\n",
    "        ('std_scaler', StandardScaler())\n",
    "    ])\n",
    "\n",
    "\n",
    "cat_pipeline = Pipeline([\n",
    "        ('label_binarizer', MyLabelBinarizer())\n",
    "    ])\n",
    "\n",
    "full_pipeline = ColumnTransformer([\n",
    "        (\"num\", num_pipeline, num_attribs),\n",
    "        (\"cat\", cat_pipeline, cat_attribs),\n",
    "    ])\n",
    "\n",
    "\n",
    "housing_prepared = full_pipeline.fit_transform(housing)\n",
    "#print(housing_prepared)\n",
    "\n"
   ]
  },
  {
   "cell_type": "code",
   "execution_count": 61,
   "metadata": {},
   "outputs": [
    {
     "name": "stdout",
     "output_type": "stream",
     "text": [
      "Predictions: [215615.06923226 346732.1858831  228727.47961606  62616.76604913\n",
      " 206972.49365904]\n",
      "Labels:  [286600.0, 340600.0, 196900.0, 46300.0, 254500.0]\n"
     ]
    }
   ],
   "source": [
    "#training the model\n",
    "from sklearn.linear_model import LinearRegression\n",
    "\n",
    "lin_reg = LinearRegression()\n",
    "lin_reg.fit(housing_prepared, housing_labels)\n",
    "\n",
    "some_data = housing.iloc[:5]\n",
    "some_labels = housing_labels.iloc[:5]\n",
    "\n",
    "some_data_prepared = full_pipeline.fit_transform(some_data)\n",
    "#print(type(some_data_prepared))\n",
    "\n",
    "print(\"Predictions:\", lin_reg.predict(some_data_prepared))\n",
    "print(\"Labels: \", list(some_labels))\n"
   ]
  },
  {
   "cell_type": "code",
   "execution_count": 62,
   "metadata": {},
   "outputs": [
    {
     "data": {
      "text/plain": [
       "49439.89599001896"
      ]
     },
     "execution_count": 62,
     "metadata": {},
     "output_type": "execute_result"
    }
   ],
   "source": [
    "from sklearn.metrics import mean_squared_error\n",
    "\n",
    "housing_predictions = lin_reg.predict(housing_prepared)\n",
    "lin_mse = mean_squared_error(housing_labels, housing_predictions)\n",
    "lin_rmse = np.sqrt(lin_mse)\n",
    "lin_rmse\n",
    "\n",
    "from sklearn.metrics import mean_absolute_error\n",
    "\n",
    "lin_mae = mean_absolute_error(housing_labels, housing_predictions)\n",
    "lin_mae"
   ]
  },
  {
   "cell_type": "code",
   "execution_count": 63,
   "metadata": {},
   "outputs": [
    {
     "data": {
      "text/plain": [
       "0.0"
      ]
     },
     "execution_count": 63,
     "metadata": {},
     "output_type": "execute_result"
    }
   ],
   "source": [
    "from sklearn.tree import DecisionTreeRegressor\n",
    "tree_reg = DecisionTreeRegressor(random_state=42)\n",
    "tree_reg.fit(housing_prepared, housing_labels)\n",
    "housing_predictions = tree_reg.predict(housing_prepared)\n",
    "tree_mse = mean_squared_error(housing_labels, housing_predictions)\n",
    "tree_rmse = np.sqrt(tree_mse)\n",
    "tree_rmse"
   ]
  },
  {
   "cell_type": "code",
   "execution_count": 64,
   "metadata": {},
   "outputs": [
    {
     "name": "stdout",
     "output_type": "stream",
     "text": [
      "Scores: [69284.28804141 65740.32352991 71288.17037922 68907.78126244\n",
      " 69504.81236153 73478.01533148 71562.31873201 70755.05481841\n",
      " 76559.53211881 69884.65768198]\n",
      "Mean: 70696.49542571935\n",
      "Standard deviation: 2739.5595935141732\n"
     ]
    }
   ],
   "source": [
    "from sklearn.model_selection import cross_val_score\n",
    "\n",
    "scores = cross_val_score(tree_reg, housing_prepared, housing_labels,\n",
    "                         scoring=\"neg_mean_squared_error\", cv=10)\n",
    "tree_rmse_scores = np.sqrt(-scores)\n",
    "\n",
    "def display_scores(scores):\n",
    "    print(\"Scores:\", scores)\n",
    "    print(\"Mean:\", scores.mean())\n",
    "    print(\"Standard deviation:\", scores.std())\n",
    "\n",
    "display_scores(tree_rmse_scores)\n"
   ]
  },
  {
   "cell_type": "code",
   "execution_count": 65,
   "metadata": {},
   "outputs": [
    {
     "name": "stdout",
     "output_type": "stream",
     "text": [
      "Scores: [66813.86698918 66960.118071   70350.90184102 74739.57052552\n",
      " 68021.57333985 71193.84183426 64969.63056405 68278.21328013\n",
      " 71553.62690045 67665.09903423]\n",
      "Mean: 69054.64423796839\n",
      "Standard deviation: 2729.7642208915054\n"
     ]
    }
   ],
   "source": [
    "#calculating cross validation results for linear regression\n",
    "lin_scores = cross_val_score(lin_reg, housing_prepared, housing_labels, scoring = \"neg_mean_squared_error\", cv=10)\n",
    "lin_rmse_scores = np.sqrt(- lin_scores )\n",
    "display_scores(lin_rmse_scores)"
   ]
  },
  {
   "cell_type": "code",
   "execution_count": 66,
   "metadata": {},
   "outputs": [
    {
     "name": "stderr",
     "output_type": "stream",
     "text": [
      "/Library/Frameworks/Python.framework/Versions/3.6/lib/python3.6/site-packages/sklearn/ensemble/forest.py:246: FutureWarning: The default value of n_estimators will change from 10 in version 0.20 to 100 in 0.22.\n",
      "  \"10 in version 0.20 to 100 in 0.22.\", FutureWarning)\n"
     ]
    },
    {
     "name": "stdout",
     "output_type": "stream",
     "text": [
      "Scores: [51410.52555694 49408.08775711 53596.25669043 54820.9795026\n",
      " 50903.87982382 56281.96153024 51936.85494851 49904.99068523\n",
      " 55337.76136373 53587.06536149]\n",
      "Mean: 52718.83632200981\n",
      "Standard deviation: 2235.9191865475136\n"
     ]
    }
   ],
   "source": [
    "from sklearn.ensemble import RandomForestRegressor\n",
    "\n",
    "forest_reg = RandomForestRegressor(random_state=42)\n",
    "forest_reg.fit(housing_prepared, housing_labels)\n",
    "\n",
    "housing_predictions = forest_reg.predict(housing_prepared)\n",
    "forest_mse = mean_squared_error(housing_labels, housing_predictions)\n",
    "forest_rmse = np.sqrt(forest_mse)\n",
    "\n",
    "from sklearn.model_selection import cross_val_score\n",
    "\n",
    "forest_scores = cross_val_score(forest_reg, housing_prepared, housing_labels,\n",
    "                                scoring=\"neg_mean_squared_error\", cv=10)\n",
    "forest_rmse_scores = np.sqrt(-forest_scores)\n",
    "display_scores(forest_rmse_scores)"
   ]
  },
  {
   "cell_type": "code",
   "execution_count": 67,
   "metadata": {},
   "outputs": [
    {
     "data": {
      "text/plain": [
       "GridSearchCV(cv=5, error_score='raise-deprecating',\n",
       "       estimator=RandomForestRegressor(bootstrap=True, criterion='mse', max_depth=None,\n",
       "           max_features='auto', max_leaf_nodes=None,\n",
       "           min_impurity_decrease=0.0, min_impurity_split=None,\n",
       "           min_samples_leaf=1, min_samples_split=2,\n",
       "           min_weight_fraction_leaf=0.0, n_estimators='warn', n_jobs=None,\n",
       "           oob_score=False, random_state=42, verbose=0, warm_start=False),\n",
       "       fit_params=None, iid='warn', n_jobs=None,\n",
       "       param_grid=[{'n_estimators': [3, 10, 30], 'max_features': [2, 4, 6, 8]}, {'bootstrap': [False], 'n_estimators': [3, 10], 'max_features': [2, 3, 4]}],\n",
       "       pre_dispatch='2*n_jobs', refit=True, return_train_score=True,\n",
       "       scoring='neg_mean_squared_error', verbose=0)"
      ]
     },
     "execution_count": 67,
     "metadata": {},
     "output_type": "execute_result"
    }
   ],
   "source": [
    "from sklearn.model_selection import GridSearchCV\n",
    "\n",
    "\n",
    "param_grid = [\n",
    "    {'n_estimators': [3, 10, 30], 'max_features': [2, 4, 6, 8]},\n",
    "    {'bootstrap': [False], 'n_estimators': [3, 10], 'max_features': [2, 3, 4]},\n",
    "  ]\n",
    "\n",
    "forest_reg = RandomForestRegressor(random_state=42)\n",
    "# train across 5 folds, that's a total of (12+6)*5=90 rounds of training \n",
    "grid_search = GridSearchCV(forest_reg, param_grid, cv=5,\n",
    "                           scoring='neg_mean_squared_error', return_train_score=True)\n",
    "grid_search.fit(housing_prepared, housing_labels)"
   ]
  },
  {
   "cell_type": "code",
   "execution_count": 68,
   "metadata": {},
   "outputs": [
    {
     "data": {
      "text/plain": [
       "RandomForestRegressor(bootstrap=True, criterion='mse', max_depth=None,\n",
       "           max_features=8, max_leaf_nodes=None, min_impurity_decrease=0.0,\n",
       "           min_impurity_split=None, min_samples_leaf=1,\n",
       "           min_samples_split=2, min_weight_fraction_leaf=0.0,\n",
       "           n_estimators=30, n_jobs=None, oob_score=False, random_state=42,\n",
       "           verbose=0, warm_start=False)"
      ]
     },
     "execution_count": 68,
     "metadata": {},
     "output_type": "execute_result"
    }
   ],
   "source": [
    "grid_search.best_params_\n",
    "grid_search.best_estimator_"
   ]
  },
  {
   "cell_type": "code",
   "execution_count": 69,
   "metadata": {},
   "outputs": [],
   "source": [
    "cvres = grid_search.cv_results_\n",
    "#cvres['params']\n",
    "#for mean_score, params in zip(cvres[\"mean_test_score\"], cvres[\"params\"]):\n",
    "#    print(np.sqrt(-mean_score), params)\n",
    "\n",
    "#making dataframe of the above data\n",
    "#pd.DataFrame(grid_search.cv_results_)"
   ]
  },
  {
   "cell_type": "code",
   "execution_count": 70,
   "metadata": {},
   "outputs": [
    {
     "name": "stdout",
     "output_type": "stream",
     "text": [
      "49246.42822568018 {'max_features': 6, 'n_estimators': 90}\n",
      "52969.42883506573 {'max_features': 2, 'n_estimators': 42}\n",
      "51886.544388884795 {'max_features': 2, 'n_estimators': 176}\n",
      "49286.4259913675 {'max_features': 5, 'n_estimators': 180}\n",
      "49102.173020869595 {'max_features': 6, 'n_estimators': 171}\n",
      "49557.10922515899 {'max_features': 6, 'n_estimators': 49}\n",
      "49734.69106453142 {'max_features': 7, 'n_estimators': 55}\n",
      "54445.874110411816 {'max_features': 1, 'n_estimators': 146}\n",
      "52047.322188874816 {'max_features': 2, 'n_estimators': 110}\n",
      "49294.707904934825 {'max_features': 7, 'n_estimators': 142}\n"
     ]
    }
   ],
   "source": [
    "from sklearn.model_selection import RandomizedSearchCV\n",
    "from scipy.stats import randint\n",
    "params = {\n",
    "    'n_estimators': randint(1,200),\n",
    "     'max_features': randint(1, 8)\n",
    "}\n",
    " \n",
    "newgridsearch = RandomizedSearchCV(forest_reg, param_distributions = params, n_iter=10, cv = 5, scoring='neg_mean_squared_error')\n",
    "r_grid_search = newgridsearch.fit(housing_prepared, housing_labels)\n",
    "r_cv = r_grid_search.cv_results_\n",
    "\n",
    "for mean_score, params in zip(r_cv[\"mean_test_score\"], r_cv[\"params\"]):\n",
    "    print(np.sqrt(-mean_score), params)"
   ]
  },
  {
   "cell_type": "code",
   "execution_count": 52,
   "metadata": {},
   "outputs": [
    {
     "name": "stdout",
     "output_type": "stream",
     "text": [
      "[7, 13, 9, 0, 10]\n"
     ]
    }
   ],
   "source": [
    "feature_importances = r_grid_search.best_estimator_.feature_importances_\n",
    "\n",
    "extra_attribs = [\"rooms_per_hhold\", \"pop_per_hhold\", \"bedrooms_per_room\"]\n",
    "cats = list(cats)\n",
    "attributes = num_attribs + extra_attribs + cats \n",
    "#print(attributes)\n",
    "f_imp = sorted(zip(feature_importances, attributes), reverse = True)\n",
    "#print(f_imp)\n",
    "#print(*f_imp,sep='\\n')\n",
    "\n",
    "\n",
    "\n",
    "\n",
    "class feature_selector(BaseEstimator, TransformerMixin):\n",
    "    def __init__(self , number):\n",
    "        self.number = number\n",
    "    def fit(self, x, y=None):\n",
    "        return self\n",
    "    def transform(self, x, y=None):\n",
    "        selected = f_imp[0:self.number]\n",
    "        list_att = [x[1] for x in selected]\n",
    "        list_items = []\n",
    "        for item in list_att:\n",
    "            list_items.append( attributes.index(item))\n",
    "        return list_items\n",
    "\n",
    "ls = feature_selector(5)\n",
    "final = ls.transform(housing_prepared)\n",
    "print(final)\n",
    "#print(attributes.index('pop_per_hhold'))"
   ]
  },
  {
   "cell_type": "code",
   "execution_count": 72,
   "metadata": {},
   "outputs": [
    {
     "name": "stdout",
     "output_type": "stream",
     "text": [
      "83981.45225603662\n"
     ]
    }
   ],
   "source": [
    "final_model = grid_search.best_estimator_\n",
    "\n",
    "X_test = strat_test_set.drop('median_house_value', axis = 1)\n",
    "y_test = strat_test_set[\"median_house_value\"].copy()\n",
    "\n",
    "X_test_prepared = full_pipeline.transform(X_test)\n",
    "final_predictions = final_model.predict(X_test_prepared)\n",
    "\n",
    "final_mse = mean_squared_error(y_test, final_predictions)\n",
    "final_rmse = np.sqrt(final_mse)\n",
    "print(final_rmse)"
   ]
  },
  {
   "cell_type": "code",
   "execution_count": 73,
   "metadata": {},
   "outputs": [
    {
     "data": {
      "text/plain": [
       "{'C': 3000, 'gamma': 'scale', 'kernel': 'rbf'}"
      ]
     },
     "execution_count": 73,
     "metadata": {},
     "output_type": "execute_result"
    }
   ],
   "source": [
    "# Question number 1 \n",
    "#the more I increase the value for C, the better the rbf kernel performs. if values are till 1000, kernel linear perfomrs better\n",
    "from sklearn.svm import SVR\n",
    "param_grid_svm =[\n",
    "    {'kernel': ['linear'], 'C':[3000]},\n",
    "    {'kernel': ['rbf'] , 'C': [3000], 'gamma' :['scale']}\n",
    "]\n",
    "\n",
    "Support_vector = SVR()\n",
    "\n",
    "# train across 5 folds, that's a total of (12+6)*5=90 rounds of training \n",
    "grid_search = GridSearchCV(Support_vector, param_grid_svm, cv=5,\n",
    "                           scoring='neg_mean_squared_error', return_train_score=True)\n",
    "grid_search.fit(housing_prepared, housing_labels)\n",
    "grid_search.best_estimator_\n",
    "\n",
    "negative_mse = grid_search.best_score_\n",
    "rmse = np.sqrt(-negative_mse)\n",
    "rmse\n",
    "\n",
    "grid_search.best_params_\n",
    "\n"
   ]
  },
  {
   "cell_type": "code",
   "execution_count": 74,
   "metadata": {},
   "outputs": [
    {
     "name": "stdout",
     "output_type": "stream",
     "text": [
      "70328.85544522104 {'C': 1108, 'gamma': 'scale', 'kernel': 'rbf'}\n",
      "64595.94677893514 {'C': 3682, 'gamma': 'scale', 'kernel': 'rbf'}\n",
      "64217.26083662952 {'C': 4114, 'gamma': 'scale', 'kernel': 'rbf'}\n",
      "70373.97421774412 {'C': 4839, 'gamma': 'scale', 'kernel': 'linear'}\n",
      "70411.53432459633 {'C': 1857, 'gamma': 'scale', 'kernel': 'linear'}\n",
      "64685.56923963392 {'C': 3585, 'gamma': 'scale', 'kernel': 'rbf'}\n",
      "64050.97920782328 {'C': 4332, 'gamma': 'scale', 'kernel': 'rbf'}\n",
      "70385.15087347322 {'C': 3746, 'gamma': 'scale', 'kernel': 'linear'}\n",
      "70416.66592489646 {'C': 1631, 'gamma': 'scale', 'kernel': 'linear'}\n",
      "70391.38110114516 {'C': 3317, 'gamma': 'scale', 'kernel': 'linear'}\n"
     ]
    }
   ],
   "source": [
    "#Q2\n",
    "\n",
    "\n",
    "Support_vectorRS = SVR()\n",
    "\n",
    "param_grid_svmQ2 = {\n",
    "    'kernel': ['linear','rbf'],\n",
    "    'C': randint(100, 5000),\n",
    "    'gamma' :['scale']\n",
    "     }\n",
    "\n",
    "Q2gridsearch = RandomizedSearchCV(Support_vectorRS, param_distributions = param_grid_svmQ2, n_jobs = 5,\n",
    "                                   n_iter=10, cv = 5, scoring='neg_mean_squared_error')\n",
    "\n",
    "r_grid_searchQ2 = Q2gridsearch.fit(housing_prepared, housing_labels)\n",
    "r_cvQ2 = r_grid_searchQ2.cv_results_\n",
    "\n",
    "#print(r_cv)\n",
    "for mean_score, params in zip(r_cvQ2[\"mean_test_score\"], r_cvQ2[\"params\"]):\n",
    "    print(np.sqrt(-mean_score), params)"
   ]
  },
  {
   "cell_type": "code",
   "execution_count": 75,
   "metadata": {},
   "outputs": [],
   "source": [
    "#Q3\n",
    "#with rbf, SVR, we can not get feature importances as the features are modified and taken to a high dimensional space\n",
    "# b_est_q3 = r_grid_searchQ2.best_estimator_\n",
    "# so we try it with randomforestregression\n",
    "\n",
    "\n"
   ]
  },
  {
   "cell_type": "code",
   "execution_count": 76,
   "metadata": {},
   "outputs": [
    {
     "name": "stdout",
     "output_type": "stream",
     "text": [
      "['longitude', 'latitude', 'housing_median_age', 'total_rooms', 'households', 'median_income', 'rooms_per_hhold', 'bedrooms_per_room', '<1H OCEAN', 'INLAND']\n"
     ]
    }
   ],
   "source": [
    "#Q3    our best estimator was coming as 'rbf' but RFE doesnt work with it so we tried it with SVR linear\n",
    "from sklearn.feature_selection import RFE\n",
    "\n",
    "b_est_q3 = SVR(kernel = 'linear')\n",
    "selector = RFE(b_est_q3, 10, step=1)\n",
    "selector = selector.fit(housing_prepared, housing_labels)\n",
    "# selector.support_ gives the mask of true false for the features given\n",
    "\n",
    "result = [x for x, y in zip(attributes, selector.support_) if y == True]\n",
    "print(result)\n"
   ]
  },
  {
   "cell_type": "code",
   "execution_count": 71,
   "metadata": {},
   "outputs": [
    {
     "ename": "NameError",
     "evalue": "name 'prepare_select_and_predict_pipeline' is not defined",
     "output_type": "error",
     "traceback": [
      "\u001b[0;31m---------------------------------------------------------------------------\u001b[0m",
      "\u001b[0;31mNameError\u001b[0m                                 Traceback (most recent call last)",
      "\u001b[0;32m<ipython-input-71-8dcb73d83f33>\u001b[0m in \u001b[0;36m<module>\u001b[0;34m\u001b[0m\n\u001b[1;32m      3\u001b[0m ]\n\u001b[1;32m      4\u001b[0m \u001b[0;34m\u001b[0m\u001b[0m\n\u001b[0;32m----> 5\u001b[0;31m grid_search_prep = GridSearchCV(prepare_select_and_predict_pipeline, param_grid, cv=5,\n\u001b[0m\u001b[1;32m      6\u001b[0m                                 scoring='neg_mean_squared_error', verbose=2, n_jobs=4)\n\u001b[1;32m      7\u001b[0m \u001b[0mgrid_search_prep\u001b[0m\u001b[0;34m.\u001b[0m\u001b[0mfit\u001b[0m\u001b[0;34m(\u001b[0m\u001b[0mhousing\u001b[0m\u001b[0;34m,\u001b[0m \u001b[0mhousing_labels\u001b[0m\u001b[0;34m)\u001b[0m\u001b[0;34m\u001b[0m\u001b[0m\n",
      "\u001b[0;31mNameError\u001b[0m: name 'prepare_select_and_predict_pipeline' is not defined"
     ]
    }
   ],
   "source": []
  },
  {
   "cell_type": "code",
   "execution_count": null,
   "metadata": {
    "collapsed": true
   },
   "outputs": [],
   "source": []
  }
 ],
 "metadata": {
  "kernelspec": {
   "display_name": "Python 3",
   "language": "python",
   "name": "python3"
  },
  "language_info": {
   "codemirror_mode": {
    "name": "ipython",
    "version": 3
   },
   "file_extension": ".py",
   "mimetype": "text/x-python",
   "name": "python",
   "nbconvert_exporter": "python",
   "pygments_lexer": "ipython3",
   "version": "3.6.7"
  }
 },
 "nbformat": 4,
 "nbformat_minor": 1
}
