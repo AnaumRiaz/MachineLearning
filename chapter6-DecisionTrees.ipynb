{
 "cells": [
  {
   "cell_type": "code",
   "execution_count": 49,
   "metadata": {},
   "outputs": [
    {
     "name": "stdout",
     "output_type": "stream",
     "text": [
      "dict_keys(['data', 'target', 'target_names', 'DESCR', 'feature_names', 'filename'])\n"
     ]
    }
   ],
   "source": [
    "#decision tree classifier\n",
    "from sklearn.datasets import load_iris\n",
    "from sklearn.tree import DecisionTreeClassifier\n",
    "\n",
    "iris = load_iris()\n",
    "X = iris.data[:, 2:]\n",
    "y = iris.target\n",
    "\n",
    "tree_clf = DecisionTreeClassifier(max_depth = 2)\n",
    "tree_clf.fit(X, y)\n",
    "\n",
    "print(iris.keys())\n",
    "\n",
    "from sklearn.tree import export_graphviz\n",
    "\n",
    "export_graphviz(tree_clf, out_file = 'iris_tree.dot',\n",
    "                feature_names = iris.feature_names[2:],\n",
    "                class_names = iris.target_names,\n",
    "                rounded=True, filled = True\n",
    "               )\n",
    "\n",
    "## typing this in command line 'dot -Tpng iris_tree.dot -o iris_tree.png' and then go in files and open it\n",
    "\n",
    "\n",
    "#### tree_clf.predict_proba([[5, 1.5]])\n",
    "tree_clf.predict([[5, 1.5]])"
   ]
  },
  {
   "cell_type": "code",
   "execution_count": 50,
   "metadata": {},
   "outputs": [],
   "source": [
    "#DecisionTree Regressor\n",
    "from sklearn.tree import DecisionTreeRegressor\n",
    "\n",
    "tree_reg = DecisionTreeRegressor(max_depth = 2)\n",
    "tree_reg.fit(X,y)\n",
    "\n",
    "\n",
    "export_graphviz(tree_reg, out_file = 'iris_treereg.dot',\n",
    "                feature_names = iris.feature_names[2:],\n",
    "                class_names = iris.target_names,\n",
    "                rounded=True, filled = True\n",
    "               )\n",
    "\n",
    "## typing this in command line 'dot -Tpng iris_tree.dot -o iris_tree.png' and then go in files and open it\n",
    "\n",
    "tree_reg.predict([[5, 1.5]])"
   ]
  },
  {
   "cell_type": "code",
   "execution_count": 30,
   "metadata": {},
   "outputs": [
    {
     "name": "stdout",
     "output_type": "stream",
     "text": [
      "generating the data ...\n"
     ]
    },
    {
     "data": {
      "image/png": "[encoded data removed]",
      "text/plain": [
       "<Figure size 432x288 with 1 Axes>"
      ]
     },
     "metadata": {
      "needs_background": "light"
     },
     "output_type": "display_data"
    },
    {
     "name": "stdout",
     "output_type": "stream",
     "text": [
      "splitting the data ... \n",
      "starting grid search ... \n",
      "0.838 {'max_leaf_nodes': 20, 'min_samples_leaf': 7, 'min_samples_split': 10}\n",
      "0.842 {'max_leaf_nodes': 20, 'min_samples_leaf': 7, 'min_samples_split': 100}\n",
      "0.8415 {'max_leaf_nodes': 20, 'min_samples_leaf': 25, 'min_samples_split': 10}\n",
      "0.8405 {'max_leaf_nodes': 20, 'min_samples_leaf': 25, 'min_samples_split': 100}\n",
      "0.8375 {'max_leaf_nodes': 25, 'min_samples_leaf': 7, 'min_samples_split': 10}\n",
      "0.842 {'max_leaf_nodes': 25, 'min_samples_leaf': 7, 'min_samples_split': 100}\n",
      "0.8415 {'max_leaf_nodes': 25, 'min_samples_leaf': 25, 'min_samples_split': 10}\n",
      "0.8405 {'max_leaf_nodes': 25, 'min_samples_leaf': 25, 'min_samples_split': 100}\n",
      "training accuracy:  0.861625\n",
      "testing accuracy:  0.8595\n"
     ]
    }
   ],
   "source": [
    "#Q7\n",
    "\n",
    "from sklearn.datasets import make_moons\n",
    "from sklearn.tree import DecisionTreeClassifier\n",
    "from scipy.stats import randint, reciprocal, uniform\n",
    "\n",
    "print('generating the data ...')\n",
    "X, y = make_moons(n_samples=10000, shuffle=True, noise=0.4, random_state = 42)\n",
    "\n",
    "import matplotlib.pyplot as plt\n",
    "plt.plot(X[:,0][y==0], X[:,1][y==0], 'ro')\n",
    "plt.plot(X[:,0][y==1], X[:,1][y==1], 'bo')\n",
    "plt.show()\n",
    "\n",
    "import numpy as np\n",
    "from sklearn.model_selection import train_test_split\n",
    "\n",
    "print('splitting the data ... ')\n",
    "X_train, X_test, y_train, y_test = train_test_split(X, y, test_size = 0.2, random_state = 42)\n",
    "\n",
    "tree_clf = DecisionTreeClassifier(max_depth = 5)\n",
    "\n",
    "from sklearn.model_selection import GridSearchCV\n",
    "\n",
    "params = {\n",
    "    \n",
    "    'max_leaf_nodes' : [20, 25],\n",
    "    'min_samples_leaf': [7, 25],\n",
    "    'min_samples_split' : [10, 100]\n",
    "       \n",
    "}\n",
    "    \n",
    "print('starting grid search ... ')\n",
    "objgs = GridSearchCV(tree_clf, params, cv = 3, scoring = 'accuracy')\n",
    "grid_res = objgs.fit(X_train[:2000], y_train[:2000])\n",
    "\n",
    "r_cv = grid_res.cv_results_\n",
    "\n",
    "for mean_score, params in zip(r_cv[\"mean_test_score\"], r_cv[\"params\"]):\n",
    "    print((mean_score), params)\n",
    "    \n",
    "from sklearn.metrics import accuracy_score\n",
    "final_model = grid_res.best_estimator_\n",
    "final_model.fit(X_train, y_train)\n",
    "train_pred = final_model.predict(X_train)\n",
    "train_sc = accuracy_score(y_train, train_pred)\n",
    "print('training accuracy: ', train_sc)\n",
    "\n",
    "test_pred = final_model.predict(X_test)\n",
    "test_sc = accuracy_score(y_test, test_pred)\n",
    "print('testing accuracy: ', test_sc)"
   ]
  },
  {
   "cell_type": "code",
   "execution_count": null,
   "metadata": {},
   "outputs": [],
   "source": [
    "#Q8. Growing a forest\n",
    "\n",
    "\n",
    "from sklearn.datasets import make_moons\n",
    "from sklearn.tree import DecisionTreeClassifier\n",
    "from scipy.stats import randint, reciprocal, uniform\n",
    "\n",
    "print('generating the data ...')\n",
    "X, y = make_moons(n_samples=100000, shuffle=True, noise=0.4, random_state = 42)\n"
   ]
  },
  {
   "cell_type": "code",
   "execution_count": null,
   "metadata": {},
   "outputs": [],
   "source": [
    "\n",
    "\n",
    "from sklearn.model_selection import ShuffleSplit\n",
    "\n",
    "n_trees = 1000\n",
    "n_instances = 100\n",
    "\n",
    "mini_sets = []\n",
    "\n",
    "rs = ShuffleSplit(n_splits = n_trees, test_size = len(X_train) - n_instances, random_state=42)\n",
    "for mini_train_index, mini_test_index in rs.split(X_train):\n",
    "    X_mini_train = X_train[mini_train_index]\n",
    "    y_mini_train = y_train[mini_train_index]\n",
    "    mini_sets.append((X_mini_train, y_mini_train))\n",
    "\n"
   ]
  },
  {
   "cell_type": "code",
   "execution_count": null,
   "metadata": {},
   "outputs": [],
   "source": [
    "\n",
    "rs.split(X_train)\n"
   ]
  },
  {
   "cell_type": "code",
   "execution_count": null,
   "metadata": {},
   "outputs": [],
   "source": []
  },
  {
   "cell_type": "code",
   "execution_count": null,
   "metadata": {},
   "outputs": [],
   "source": []
  },
  {
   "cell_type": "code",
   "execution_count": null,
   "metadata": {},
   "outputs": [],
   "source": []
  },
  {
   "cell_type": "code",
   "execution_count": null,
   "metadata": {},
   "outputs": [],
   "source": []
  }
 ],
 "metadata": {
  "kernelspec": {
   "display_name": "Python 3",
   "language": "python",
   "name": "python3"
  },
  "language_info": {
   "codemirror_mode": {
    "name": "ipython",
    "version": 3
   },
   "file_extension": ".py",
   "mimetype": "text/x-python",
   "name": "python",
   "nbconvert_exporter": "python",
   "pygments_lexer": "ipython3",
   "version": "3.6.7"
  }
 },
 "nbformat": 4,
 "nbformat_minor": 2
}
