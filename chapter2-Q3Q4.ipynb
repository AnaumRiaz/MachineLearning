{
 "cells": [
  {
   "cell_type": "code",
   "execution_count": 1,
   "metadata": {
    "collapsed": false
   },
   "outputs": [],
   "source": [
    "import os\n",
    "import tarfile\n",
    "from six.moves import urllib\n",
    "import hashlib\n",
    "import numpy as np\n",
    "\n",
    "DOWNLOAD_ROOT = \"https://raw.githubusercontent.com/ageron/handson-ml/master/\"\n",
    "HOUSING_PATH = \"datasets/housing\"\n",
    "HOUSING_URL = DOWNLOAD_ROOT + HOUSING_PATH +\"/housing.tgz\"\n",
    "\n",
    "def fetch_housing_data(housing_url = HOUSING_URL, housing_path = HOUSING_PATH):\n",
    "    if not os.path.isdir(housing_path):\n",
    "        os.makedirs(housing_path)\n",
    "    tgz_path = os.path.join(housing_path, \"housing.tgz\")\n",
    "    urllib.request.urlretrieve(housing_url, tgz_path)\n",
    "    housing_tgz = tarfile.open(tgz_path)\n",
    "    housing_tgz.extractall(path = housing_path)\n",
    "    housing_tgz.close()\n",
    "    \n",
    "fetch_housing_data(HOUSING_URL, HOUSING_PATH)\n",
    "    \n",
    "import pandas as pd\n",
    "def load_housing_data(housing_path = HOUSING_PATH):\n",
    "    csv_path = os.path.join (housing_path, \"housing.csv\")\n",
    "    return pd.read_csv(csv_path)\n",
    "\n",
    "housing = load_housing_data()\n",
    "\n"
   ]
  },
  {
   "cell_type": "code",
   "execution_count": 2,
   "metadata": {
    "collapsed": false
   },
   "outputs": [],
   "source": [
    "#making median income in categories for simplification from continuous variable and putting all the maximum ones in 5\n",
    "#This category is made just to do stratified sampling on the basis of this category\n",
    "housing[\"income_cat\"] = np.ceil(housing[\"median_income\"]/1.5)\n",
    "housing[\"income_cat\"].where(housing[\"income_cat\"] < 5, 5.0, inplace = True)\n",
    "\n",
    "#Doing stratified sampling to make the training testing set\n",
    "from sklearn.model_selection import StratifiedShuffleSplit\n",
    "split = StratifiedShuffleSplit(n_splits = 1, test_size = 0.2, random_state = 42)\n",
    "\n",
    "for train_index, test_index in split.split(housing, housing[\"income_cat\"]):\n",
    "    strat_train_set = housing.loc[train_index]\n",
    "    strat_test_set= housing.loc[test_index]"
   ]
  },
  {
   "cell_type": "code",
   "execution_count": 3,
   "metadata": {
    "collapsed": false
   },
   "outputs": [],
   "source": [
    "#now that we have divided the group, we drop the column income_cat from the database\n",
    "\n",
    "for set in (strat_train_set, strat_test_set):\n",
    "    set.drop([\"income_cat\"], axis = 1, inplace = True)\n",
    " "
   ]
  },
  {
   "cell_type": "code",
   "execution_count": 4,
   "metadata": {
    "collapsed": true
   },
   "outputs": [],
   "source": [
    "#making a copy of training data \n",
    "#Now that we have visualized the data, we want to go back to the original data, make its copy and separate the data from target values (median housing valu\n",
    "housing = strat_train_set.copy()\n",
    "housing = strat_train_set.drop(\"median_house_value\", axis = 1)\n",
    "housing_labels = strat_train_set[\"median_house_value\"].copy()\n",
    "\n",
    "X_test = strat_test_set.drop('median_house_value', axis = 1)\n",
    "y_test = strat_test_set[\"median_house_value\"].copy()\n"
   ]
  },
  {
   "cell_type": "code",
   "execution_count": 10,
   "metadata": {
    "collapsed": false
   },
   "outputs": [],
   "source": [
    "housing_num = housing.drop(\"ocean_proximity\", axis = 1)\n",
    "housing_cat = housing[\"ocean_proximity\"]\n"
   ]
  },
  {
   "cell_type": "code",
   "execution_count": 6,
   "metadata": {
    "collapsed": false
   },
   "outputs": [],
   "source": [
    "#making our own transforms. adding two extra attribs like before. population_per_household amd rooms_per_household\n",
    "from sklearn.base import BaseEstimator, TransformerMixin\n",
    "\n",
    "rooms_ix , bedrooms_ix, population_ix, household_ix = 3, 4, 5, 6\n",
    "\n",
    "class CombinedAttributesAdder(BaseEstimator,TransformerMixin):\n",
    "    def __init__(self, add_bedrooms_per_room = True):\n",
    "        self.add_bedrooms_per_room = add_bedrooms_per_room\n",
    "        \n",
    "    def fit(self, X, y = None):\n",
    "        return self\n",
    "    \n",
    "    def transform(self, X, y = None):\n",
    "        rooms_per_household = X[:, rooms_ix] / X[:, household_ix]\n",
    "        population_per_household = X[:, population_ix]/ X[:,household_ix]\n",
    "        if self.add_bedrooms_per_room:\n",
    "            bedrooms_per_room = X[:, bedrooms_ix]/ X[:, rooms_ix]\n",
    "            return np.c_[X,rooms_per_household, population_per_household, bedrooms_per_room]\n",
    "        else:\n",
    "            return np.c_[X, rooms_per_household, population_per_household]\n",
    "\n"
   ]
  },
  {
   "cell_type": "code",
   "execution_count": 7,
   "metadata": {
    "collapsed": false
   },
   "outputs": [],
   "source": [
    "from sklearn.pipeline import Pipeline\n",
    "from sklearn.preprocessing import StandardScaler\n",
    "from sklearn.impute import SimpleImputer\n",
    "from sklearn.compose import ColumnTransformer\n",
    "\n",
    "\n",
    "cats = housing.ocean_proximity.unique()\n",
    "num_attribs = list(housing_num)\n",
    "cat_attribs = [\"ocean_proximity\"]\n",
    "\n",
    "\n",
    "class MyLabelBinarizer(BaseEstimator, TransformerMixin):\n",
    "    def __init__(self):\n",
    "        pass\n",
    "    def fit(self, x, y=None):\n",
    "        return self\n",
    "    def transform(self, x, y=None):\n",
    "        x = x.astype(pd.api.types.CategoricalDtype(categories = cats))\n",
    "        dummies = pd.get_dummies(x)\n",
    "        return dummies\n",
    "\n",
    "\n",
    "num_pipeline = Pipeline([\n",
    "        ('imputer', SimpleImputer(strategy = \"median\")),\n",
    "        ('attribs_adder', CombinedAttributesAdder()),\n",
    "        ('std_scaler', StandardScaler())\n",
    "    ])\n",
    "\n",
    "\n",
    "cat_pipeline = Pipeline([\n",
    "        ('label_binarizer', MyLabelBinarizer())\n",
    "    ])\n",
    "\n",
    "full_pipeline = ColumnTransformer([\n",
    "        (\"num\", num_pipeline, num_attribs),\n",
    "        (\"cat\", cat_pipeline, cat_attribs),\n",
    "    ])\n",
    "\n",
    "\n",
    "housing_prepared = full_pipeline.fit_transform(housing)\n",
    "#print(housing_prepared)\n",
    "\n"
   ]
  },
  {
   "cell_type": "code",
   "execution_count": 8,
   "metadata": {
    "collapsed": false
   },
   "outputs": [
    {
     "name": "stdout",
     "output_type": "stream",
     "text": [
      "50351.56416303586 {'max_features': 3, 'n_estimators': 183}\n",
      "54477.01506596333 {'max_features': 1, 'n_estimators': 131}\n",
      "49622.79697691197 {'max_features': 4, 'n_estimators': 89}\n",
      "49581.93672261728 {'max_features': 5, 'n_estimators': 108}\n",
      "51065.84178016523 {'max_features': 4, 'n_estimators': 19}\n",
      "52011.21368381635 {'max_features': 2, 'n_estimators': 121}\n",
      "49098.319386643874 {'max_features': 6, 'n_estimators': 176}\n",
      "49119.867115965586 {'max_features': 6, 'n_estimators': 146}\n",
      "49262.86854045333 {'max_features': 5, 'n_estimators': 188}\n",
      "49267.9427561217 {'max_features': 7, 'n_estimators': 181}\n"
     ]
    }
   ],
   "source": [
    "\n",
    "from sklearn.metrics import mean_squared_error\n",
    "from sklearn.ensemble import RandomForestRegressor\n",
    "from sklearn.model_selection import RandomizedSearchCV\n",
    "from scipy.stats import randint\n",
    "\n",
    "\n",
    "\n",
    "forest_reg = RandomForestRegressor(random_state=42)\n",
    "params = {\n",
    "    'n_estimators': randint(1,200),\n",
    "     'max_features': randint(1, 8)\n",
    "}\n",
    " \n",
    "newgridsearch = RandomizedSearchCV(forest_reg, param_distributions = params, n_iter=10, cv = 5, scoring='neg_mean_squared_error', n_jobs = 5)\n",
    "r_grid_search = newgridsearch.fit(housing_prepared, housing_labels)\n",
    "r_cv = r_grid_search.cv_results_\n",
    "\n",
    "for mean_score, params in zip(r_cv[\"mean_test_score\"], r_cv[\"params\"]):\n",
    "    print(np.sqrt(-mean_score), params)\n"
   ]
  },
  {
   "cell_type": "code",
   "execution_count": 33,
   "metadata": {
    "collapsed": false
   },
   "outputs": [
    {
     "name": "stdout",
     "output_type": "stream",
     "text": [
      "[[-1.15604281  0.77194962  0.74333089 -0.49323393 -0.44543821]\n",
      " [-1.17602483  0.6596948  -1.1653172  -0.90896655 -1.0369278 ]\n",
      " [ 1.18684903 -1.34218285  0.18664186 -0.31365989 -0.15334458]\n",
      " ...\n",
      " [ 1.58648943 -0.72478134 -1.56295222  1.04390119  0.82273495]\n",
      " [ 0.78221312 -0.85106801  0.18664186 -0.30991876 -0.37484891]\n",
      " [-1.43579109  0.99645926  1.85670895  0.22085348  0.36025337]]\n"
     ]
    }
   ],
   "source": [
    "feature_importances = r_grid_search.best_estimator_.feature_importances_\n",
    "\n",
    "extra_attribs = [\"rooms_per_hhold\", \"pop_per_hhold\", \"bedrooms_per_room\"]\n",
    "cats = list(cats)\n",
    "attributes = num_attribs + extra_attribs + cats \n",
    "f_importance = sorted(zip(feature_importances, attributes), reverse = True)\n",
    "#print(f_imp)\n",
    "\n",
    "\n",
    "class feature_selector(BaseEstimator, TransformerMixin):\n",
    "    def __init__(self , number, f_imp):\n",
    "        self.f_imp = f_imp\n",
    "        self.number = number\n",
    "    def fit(self, x, y=None):\n",
    "        return self\n",
    "    def transform(self, x):\n",
    "        selected = self.f_imp[0:self.number]\n",
    "        list_att = [x[1] for x in selected]\n",
    "        list_items = []\n",
    "        for item in list_att:\n",
    "            list_items.append(attributes.index(item))\n",
    "        x = x[:, list_items]\n",
    "        return x\n",
    "\n",
    "ls = feature_selector(5, f_importance)\n",
    "final = ls.transform(housing_prepared)\n",
    "print((final))\n",
    "#print(attributes.index('pop_per_hhold'))\n",
    "\n",
    "final_model = r_grid_search.best_estimator_"
   ]
  },
  {
   "cell_type": "code",
   "execution_count": 35,
   "metadata": {
    "collapsed": false
   },
   "outputs": [
    {
     "name": "stdout",
     "output_type": "stream",
     "text": [
      "training data error:  18520.22166770688\n",
      "testing data error:  19978.44031857846\n"
     ]
    }
   ],
   "source": [
    "final_pipeline = Pipeline ([\n",
    "    (\"preparation_data\", full_pipeline),\n",
    "    (\"feature_selection\", feature_selector(10, f_importance)),\n",
    "    (\"prediction\", final_model)   \n",
    "])\n",
    "\n",
    "training1 = final_pipeline.fit(housing, housing_labels)\n",
    "pred_train = training1.predict(housing)\n",
    "final_mse = mean_squared_error(housing_labels, pred_train)\n",
    "final_rmse = np.sqrt(final_mse)\n",
    "print(\"training data error: \" , final_rmse)\n",
    "\n",
    "\n",
    "test_prepared = final_pipeline.fit(X_test, y_test)\n",
    "test_predictions = test_prepared.predict(X_test)\n",
    "final_mse = mean_squared_error(y_test, test_predictions)\n",
    "final_rmse = np.sqrt(final_mse)\n",
    "print(\"testing data error: \", final_rmse)\n",
    "\n",
    "#how does the pipeline know where the input data is going\n",
    "\n",
    "# final_mse = mean_squared_error(y_test, final_predictions)\n",
    "# final_rmse = np.sqrt(final_mse)\n",
    "# print(final_rmse)"
   ]
  },
  {
   "cell_type": "code",
   "execution_count": null,
   "metadata": {
    "collapsed": false
   },
   "outputs": [],
   "source": [
    "#Q2\n",
    "\n",
    "\n",
    "Support_vectorRS = SVR()\n",
    "\n",
    "param_grid_svmQ2 = {\n",
    "    'kernel': ['linear','rbf'],\n",
    "    'C': randint(100, 5000),\n",
    "    'gamma' :['scale']\n",
    "     }\n",
    "\n",
    "SVgridsearch = RandomizedSearchCV(Support_vectorRS, param_distributions = param_grid_svmQ2, n_jobs = 5,\n",
    "                                   n_iter=10, cv = 5, scoring='neg_mean_squared_error')\n",
    "\n",
    "r_grid_searchSV = SVgridsearch.fit(housing_prepared, housing_labels)\n",
    "r_cv = r_grid_searchSV.cv_results_\n",
    "\n",
    "#print(r_cv)\n",
    "for mean_score, params in zip(r_cvQ2[\"mean_test_score\"], r_cvQ2[\"params\"]):\n",
    "    print(np.sqrt(-mean_score), params)"
   ]
  },
  {
   "cell_type": "code",
   "execution_count": null,
   "metadata": {
    "collapsed": false
   },
   "outputs": [],
   "source": []
  },
  {
   "cell_type": "code",
   "execution_count": null,
   "metadata": {
    "collapsed": false
   },
   "outputs": [],
   "source": []
  },
  {
   "cell_type": "code",
   "execution_count": null,
   "metadata": {
    "collapsed": false
   },
   "outputs": [],
   "source": [
    "\n"
   ]
  },
  {
   "cell_type": "code",
   "execution_count": null,
   "metadata": {
    "collapsed": false
   },
   "outputs": [],
   "source": []
  },
  {
   "cell_type": "code",
   "execution_count": null,
   "metadata": {
    "collapsed": false
   },
   "outputs": [],
   "source": [
    "#Q3\n",
    "#with rbf, SVR, we can not get feature importances as the features are modified and taken to a high dimensional space\n",
    "# b_est_q3 = r_grid_searchQ2.best_estimator_\n",
    "# so we try it with randomforestregression\n",
    "\n",
    "\n",
    "\n",
    "\n",
    "#Q3    our best estimator was coming as 'rbf' but RFE doesnt work with it so we tried it with SVR linear\n",
    "from sklearn.feature_selection import RFE\n",
    "\n",
    "b_est_q3 = SVR(kernel = 'linear')\n",
    "selector = RFE(b_est_q3, 10, step=1)\n",
    "selector = selector.fit(housing_prepared, housing_labels)\n",
    "# selector.support_ gives the mask of true false for the features given\n",
    "\n",
    "result = [x for x, y in zip(attributes, selector.support_) if y == True]\n",
    "print(result)\n"
   ]
  },
  {
   "cell_type": "code",
   "execution_count": null,
   "metadata": {
    "collapsed": false
   },
   "outputs": [],
   "source": []
  },
  {
   "cell_type": "code",
   "execution_count": null,
   "metadata": {
    "collapsed": false
   },
   "outputs": [],
   "source": []
  },
  {
   "cell_type": "code",
   "execution_count": null,
   "metadata": {
    "collapsed": false
   },
   "outputs": [],
   "source": []
  },
  {
   "cell_type": "code",
   "execution_count": null,
   "metadata": {
    "collapsed": false
   },
   "outputs": [],
   "source": []
  },
  {
   "cell_type": "code",
   "execution_count": null,
   "metadata": {
    "collapsed": false
   },
   "outputs": [],
   "source": []
  },
  {
   "cell_type": "code",
   "execution_count": null,
   "metadata": {
    "collapsed": false
   },
   "outputs": [],
   "source": []
  },
  {
   "cell_type": "code",
   "execution_count": null,
   "metadata": {
    "collapsed": false
   },
   "outputs": [],
   "source": []
  },
  {
   "cell_type": "code",
   "execution_count": null,
   "metadata": {
    "collapsed": false
   },
   "outputs": [],
   "source": []
  },
  {
   "cell_type": "code",
   "execution_count": null,
   "metadata": {
    "collapsed": true
   },
   "outputs": [],
   "source": []
  }
 ],
 "metadata": {
  "kernelspec": {
   "display_name": "Python 3",
   "language": "python",
   "name": "python3"
  },
  "language_info": {
   "codemirror_mode": {
    "name": "ipython",
    "version": 3
   },
   "file_extension": ".py",
   "mimetype": "text/x-python",
   "name": "python",
   "nbconvert_exporter": "python",
   "pygments_lexer": "ipython3",
   "version": "3.6.1"
  }
 },
 "nbformat": 4,
 "nbformat_minor": 0
}
