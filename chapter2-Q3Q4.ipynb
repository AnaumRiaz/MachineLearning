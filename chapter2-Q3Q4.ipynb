{
 "cells": [
  {
   "cell_type": "code",
   "execution_count": 1,
   "metadata": {},
   "outputs": [],
   "source": [
    "import os\n",
    "import tarfile\n",
    "from six.moves import urllib\n",
    "import hashlib\n",
    "import numpy as np\n",
    "\n",
    "DOWNLOAD_ROOT = \"https://raw.githubusercontent.com/ageron/handson-ml/master/\"\n",
    "HOUSING_PATH = \"datasets/housing\"\n",
    "HOUSING_URL = DOWNLOAD_ROOT + HOUSING_PATH +\"/housing.tgz\"\n",
    "\n",
    "def fetch_housing_data(housing_url = HOUSING_URL, housing_path = HOUSING_PATH):\n",
    "    if not os.path.isdir(housing_path):\n",
    "        os.makedirs(housing_path)\n",
    "    tgz_path = os.path.join(housing_path, \"housing.tgz\")\n",
    "    urllib.request.urlretrieve(housing_url, tgz_path)\n",
    "    housing_tgz = tarfile.open(tgz_path)\n",
    "    housing_tgz.extractall(path = housing_path)\n",
    "    housing_tgz.close()\n",
    "    \n",
    "fetch_housing_data(HOUSING_URL, HOUSING_PATH)\n",
    "    \n",
    "import pandas as pd\n",
    "def load_housing_data(housing_path = HOUSING_PATH):\n",
    "    csv_path = os.path.join (housing_path, \"housing.csv\")\n",
    "    return pd.read_csv(csv_path)\n",
    "\n",
    "housing = load_housing_data()\n",
    "\n"
   ]
  },
  {
   "cell_type": "code",
   "execution_count": 2,
   "metadata": {},
   "outputs": [],
   "source": [
    "#making median income in categories for simplification from continuous variable and putting all the maximum ones in 5\n",
    "#This category is made just to do stratified sampling on the basis of this category\n",
    "housing[\"income_cat\"] = np.ceil(housing[\"median_income\"]/1.5)\n",
    "housing[\"income_cat\"].where(housing[\"income_cat\"] < 5, 5.0, inplace = True)\n",
    "\n",
    "#Doing stratified sampling to make the training testing set\n",
    "from sklearn.model_selection import StratifiedShuffleSplit\n",
    "split = StratifiedShuffleSplit(n_splits = 1, test_size = 0.2, random_state = 42)\n",
    "\n",
    "for train_index, test_index in split.split(housing, housing[\"income_cat\"]):\n",
    "    strat_train_set = housing.loc[train_index]\n",
    "    strat_test_set= housing.loc[test_index]"
   ]
  },
  {
   "cell_type": "code",
   "execution_count": 3,
   "metadata": {},
   "outputs": [],
   "source": [
    "#now that we have divided the group, we drop the column income_cat from the database\n",
    "\n",
    "for set in (strat_train_set, strat_test_set):\n",
    "    set.drop([\"income_cat\"], axis = 1, inplace = True)\n",
    " "
   ]
  },
  {
   "cell_type": "code",
   "execution_count": 4,
   "metadata": {},
   "outputs": [],
   "source": [
    "#making a copy of training data \n",
    "#Now that we have visualized the data, we want to go back to the original data, make its copy and separate the data from target values (median housing valu\n",
    "housing = strat_train_set.copy()\n",
    "housing = strat_train_set.drop(\"median_house_value\", axis = 1)\n",
    "housing_labels = strat_train_set[\"median_house_value\"].copy()\n",
    "\n",
    "X_test = strat_test_set.drop('median_house_value', axis = 1)\n",
    "y_test = strat_test_set[\"median_house_value\"].copy()\n"
   ]
  },
  {
   "cell_type": "code",
   "execution_count": 5,
   "metadata": {},
   "outputs": [],
   "source": [
    "housing_num = housing.drop(\"ocean_proximity\", axis = 1)\n",
    "housing_cat = housing[\"ocean_proximity\"]\n"
   ]
  },
  {
   "cell_type": "code",
   "execution_count": 6,
   "metadata": {},
   "outputs": [],
   "source": [
    "#making our own transforms. adding two extra attribs like before. population_per_household amd rooms_per_household\n",
    "from sklearn.base import BaseEstimator, TransformerMixin\n",
    "\n",
    "rooms_ix , bedrooms_ix, population_ix, household_ix = 3, 4, 5, 6\n",
    "\n",
    "class CombinedAttributesAdder(BaseEstimator,TransformerMixin):\n",
    "    def __init__(self, add_bedrooms_per_room = True):\n",
    "        self.add_bedrooms_per_room = add_bedrooms_per_room\n",
    "        \n",
    "    def fit(self, X, y = None):\n",
    "        return self\n",
    "    \n",
    "    def transform(self, X, y = None):\n",
    "        rooms_per_household = X[:, rooms_ix] / X[:, household_ix]\n",
    "        population_per_household = X[:, population_ix]/ X[:,household_ix]\n",
    "        if self.add_bedrooms_per_room:\n",
    "            bedrooms_per_room = X[:, bedrooms_ix]/ X[:, rooms_ix]\n",
    "            return np.c_[X,rooms_per_household, population_per_household, bedrooms_per_room]\n",
    "        else:\n",
    "            return np.c_[X, rooms_per_household, population_per_household]\n",
    "\n"
   ]
  },
  {
   "cell_type": "code",
   "execution_count": 7,
   "metadata": {},
   "outputs": [],
   "source": [
    "from sklearn.pipeline import Pipeline\n",
    "from sklearn.preprocessing import StandardScaler\n",
    "from sklearn.impute import SimpleImputer\n",
    "from sklearn.compose import ColumnTransformer\n",
    "\n",
    "\n",
    "cats = housing.ocean_proximity.unique()\n",
    "num_attribs = list(housing_num)\n",
    "cat_attribs = [\"ocean_proximity\"]\n",
    "\n",
    "\n",
    "class MyLabelBinarizer(BaseEstimator, TransformerMixin):\n",
    "    def __init__(self):\n",
    "        pass\n",
    "    def fit(self, x, y=None):\n",
    "        return self\n",
    "    def transform(self, x, y=None):\n",
    "        x = x.astype(pd.api.types.CategoricalDtype(categories = cats))\n",
    "        dummies = pd.get_dummies(x)\n",
    "        return dummies\n",
    "\n",
    "\n",
    "num_pipeline = Pipeline([\n",
    "        ('imputer', SimpleImputer(strategy = \"median\")),\n",
    "        ('attribs_adder', CombinedAttributesAdder()),\n",
    "        ('std_scaler', StandardScaler())\n",
    "    ])\n",
    "\n",
    "\n",
    "cat_pipeline = Pipeline([\n",
    "        ('label_binarizer', MyLabelBinarizer())\n",
    "    ])\n",
    "\n",
    "full_pipeline = ColumnTransformer([\n",
    "        (\"num\", num_pipeline, num_attribs),\n",
    "        (\"cat\", cat_pipeline, cat_attribs),\n",
    "    ])\n",
    "\n",
    "\n",
    "housing_prepared = full_pipeline.fit_transform(housing)\n",
    "#print(housing_prepared)\n",
    "\n"
   ]
  },
  {
   "cell_type": "code",
   "execution_count": 8,
   "metadata": {},
   "outputs": [
    {
     "name": "stdout",
     "output_type": "stream",
     "text": [
      "49246.42822568018 {'max_features': 6, 'n_estimators': 90}\n",
      "52167.259787109186 {'max_features': 2, 'n_estimators': 93}\n",
      "49340.47893825622 {'max_features': 5, 'n_estimators': 149}\n",
      "50389.99280724093 {'max_features': 7, 'n_estimators': 26}\n",
      "51863.746022514715 {'max_features': 2, 'n_estimators': 185}\n",
      "55270.59014543636 {'max_features': 1, 'n_estimators': 31}\n",
      "50452.23100730043 {'max_features': 3, 'n_estimators': 104}\n",
      "51963.54184952304 {'max_features': 2, 'n_estimators': 123}\n",
      "49392.11245890409 {'max_features': 6, 'n_estimators': 56}\n",
      "49383.34860447154 {'max_features': 7, 'n_estimators': 92}\n"
     ]
    }
   ],
   "source": [
    "\n",
    "from sklearn.metrics import mean_squared_error\n",
    "from sklearn.ensemble import RandomForestRegressor\n",
    "from sklearn.model_selection import RandomizedSearchCV\n",
    "from scipy.stats import randint\n",
    "\n",
    "\n",
    "\n",
    "forest_reg = RandomForestRegressor(random_state=42)\n",
    "params = {\n",
    "    'n_estimators': randint(1,200),\n",
    "     'max_features': randint(1, 8)\n",
    "}\n",
    " \n",
    "newgridsearch = RandomizedSearchCV(forest_reg, param_distributions = params, n_iter=10, cv = 5, scoring='neg_mean_squared_error', n_jobs = 5)\n",
    "r_grid_search = newgridsearch.fit(housing_prepared, housing_labels)\n",
    "r_cv = r_grid_search.cv_results_\n",
    "\n",
    "for mean_score, params in zip(r_cv[\"mean_test_score\"], r_cv[\"params\"]):\n",
    "    print(np.sqrt(-mean_score), params)\n"
   ]
  },
  {
   "cell_type": "code",
   "execution_count": 9,
   "metadata": {},
   "outputs": [
    {
     "name": "stdout",
     "output_type": "stream",
     "text": [
      "[[-0.61493744  0.         -0.08649871  0.15531753 -1.15604281]\n",
      " [ 1.33645936  0.         -0.03353391 -0.83628902 -1.17602483]\n",
      " [-0.5320456   0.         -0.09240499  0.4222004   1.18684903]\n",
      " ...\n",
      " [-0.3167053   1.         -0.03055414 -0.52177644  1.58648943]\n",
      " [ 0.09812139  0.          0.06150916 -0.30340741  0.78221312]\n",
      " [-0.15779865  0.         -0.09586294  0.10180567 -1.43579109]]\n"
     ]
    }
   ],
   "source": [
    "feature_importances = r_grid_search.best_estimator_.feature_importances_\n",
    "\n",
    "extra_attribs = [\"rooms_per_hhold\", \"pop_per_hhold\", \"bedrooms_per_room\"]\n",
    "cats = list(cats)\n",
    "attributes = num_attribs + extra_attribs + cats \n",
    "f_importance = sorted(zip(feature_importances, attributes), reverse = True)\n",
    "#print(f_importance)\n",
    "\n",
    "class feature_selector(BaseEstimator, TransformerMixin):\n",
    "    def __init__(self , number, f_imp = None):\n",
    "        self.number = number\n",
    "        self.f_imp = f_imp\n",
    "        \n",
    "    def fit(self,  y = None, f_imp =  None):\n",
    "        return self\n",
    "    \n",
    "    def transform(self, x, y = None):\n",
    "        selected = self.f_imp[0:self.number]\n",
    "        list_att = [x[1] for x in selected]\n",
    "        list_items = []\n",
    "        for item in list_att:\n",
    "            list_items.append(attributes.index(item))\n",
    "        x = x[:, list_items]\n",
    "        return x\n",
    "\n",
    "ls = feature_selector(5, f_importance)\n",
    "final = ls.transform( housing_prepared)\n",
    "print((final))\n",
    "\n",
    "final_model = r_grid_search.best_estimator_"
   ]
  },
  {
   "cell_type": "code",
   "execution_count": 10,
   "metadata": {},
   "outputs": [
    {
     "name": "stdout",
     "output_type": "stream",
     "text": [
      "training data error:  18303.166820165683\n",
      "testing data error:  19574.290580869783\n"
     ]
    }
   ],
   "source": [
    "final_pipeline = Pipeline ([\n",
    "    (\"preparation_data\", full_pipeline),\n",
    "    (\"feature_selection\", feature_selector(10)),\n",
    "    (\"prediction\", final_model)   \n",
    "])\n",
    "\n",
    "\n",
    "final_pipeline.set_params(feature_selection__f_imp = f_importance)\n",
    "#print(final_pipeline.get_params())\n",
    "training1 = final_pipeline.fit( housing, housing_labels )\n",
    "\n",
    "pred_train = training1.predict(housing)\n",
    "final_mse = mean_squared_error(housing_labels, pred_train)\n",
    "final_rmse = np.sqrt(final_mse)\n",
    "print(\"training data error: \" , final_rmse)\n",
    "\n",
    "\n",
    "test_prepared = final_pipeline.fit(X_test, y_test)\n",
    "test_predictions = test_prepared.predict(X_test)\n",
    "final_mse = mean_squared_error(y_test, test_predictions)\n",
    "final_rmse = np.sqrt(final_mse)\n",
    "print(\"testing data error: \", final_rmse)\n",
    "\n",
    "#how does the pipeline know where the input data is going\n"
   ]
  },
  {
   "cell_type": "code",
   "execution_count": 11,
   "metadata": {},
   "outputs": [
    {
     "ename": "NameError",
     "evalue": "name 'SVR' is not defined",
     "output_type": "error",
     "traceback": [
      "\u001b[0;31m---------------------------------------------------------------------------\u001b[0m",
      "\u001b[0;31mNameError\u001b[0m                                 Traceback (most recent call last)",
      "\u001b[0;32m<ipython-input-11-aac9e9cb7ec6>\u001b[0m in \u001b[0;36m<module>\u001b[0;34m\u001b[0m\n\u001b[1;32m      8\u001b[0m \u001b[0;32mfrom\u001b[0m \u001b[0msklearn\u001b[0m\u001b[0;34m.\u001b[0m\u001b[0mfeature_selection\u001b[0m \u001b[0;32mimport\u001b[0m \u001b[0mRFE\u001b[0m\u001b[0;34m\u001b[0m\u001b[0;34m\u001b[0m\u001b[0m\n\u001b[1;32m      9\u001b[0m \u001b[0;34m\u001b[0m\u001b[0m\n\u001b[0;32m---> 10\u001b[0;31m \u001b[0mb_est_q3\u001b[0m \u001b[0;34m=\u001b[0m \u001b[0mSVR\u001b[0m\u001b[0;34m(\u001b[0m\u001b[0mkernel\u001b[0m \u001b[0;34m=\u001b[0m \u001b[0;34m'linear'\u001b[0m\u001b[0;34m)\u001b[0m\u001b[0;34m\u001b[0m\u001b[0;34m\u001b[0m\u001b[0m\n\u001b[0m\u001b[1;32m     11\u001b[0m \u001b[0;34m\u001b[0m\u001b[0m\n\u001b[1;32m     12\u001b[0m \u001b[0;34m\u001b[0m\u001b[0m\n",
      "\u001b[0;31mNameError\u001b[0m: name 'SVR' is not defined"
     ]
    }
   ],
   "source": [
    "#Q3\n",
    "#with rbf, SVR, we can not get feature importances as the features are modified and taken to a high dimensional space\n",
    "# b_est_q3 = r_grid_searchQ2.best_estimator_\n",
    "\n",
    "\n",
    "\n",
    "#Q3    our best estimator was coming as 'rbf' but RFE doesnt work with it so we tried it with SVR linear\n",
    "from sklearn.feature_selection import RFE\n",
    "\n",
    "b_est_q3 = SVR(kernel = 'linear')\n",
    "\n",
    "\n",
    "class feature_selector_SVM(BaseEstimator, TransformerMixin):\n",
    "    def __init__ (self, number, h_l = None):\n",
    "        self.number = number\n",
    "        self.h_l = h_l\n",
    "        \n",
    "    def fit(self, x, h_l = None):\n",
    "        return self\n",
    "    \n",
    "    def transform(self, x):\n",
    "        #print(\"inside transfrom of feature selector svm value of h_l is \", h_l)\n",
    "        #self.h_l = h_l\n",
    "        selector = RFE(b_est_q3, self.number, step=1)\n",
    "        selector = selector.fit(x, self.h_l)\n",
    "        result = [a for a, b in zip(attributes, selector.support_) if b == True]\n",
    "        list_items = []\n",
    "        for item in result:\n",
    "            list_items.append(attributes.index(item))\n",
    "        x = x[:, list_items]\n",
    "        return x\n",
    "\n",
    "inter = feature_selector_SVM(10, housing_labels)\n",
    "f = inter.transform(housing_prepared)\n"
   ]
  },
  {
   "cell_type": "code",
   "execution_count": null,
   "metadata": {},
   "outputs": [],
   "source": [
    "\n",
    "\n",
    "final_pipeline_SVM = Pipeline ([\n",
    "    (\"preparation_data\", full_pipeline),\n",
    "    (\"feature_selection\", feature_selector_SVM(10)),\n",
    "    (\"prediction\", b_est_q3)   \n",
    "])\n",
    "\n",
    "\n",
    "final_pipeline_SVM.set_params(feature_selection__h_l = housing_labels)\n",
    "#print(final_pipeline_SVM.get_params())\n",
    "training1 = final_pipeline_SVM.fit( housing, housing_labels )\n",
    "pred_train = training1.predict(housing)\n",
    "final_mse = mean_squared_error(housing_labels, pred_train)\n",
    "final_rmse = np.sqrt(final_mse)\n",
    "print(\"training data error: \" , final_rmse)\n",
    "\n",
    "\n",
    "\n",
    "final_pipeline_SVM.set_params(feature_selection__h_l = y_test)\n",
    "test_prepared = final_pipeline_SVM.fit(X_test, y_test)\n",
    "test_predictions = test_prepared.predict(X_test)\n",
    "final_mse = mean_squared_error(y_test, test_predictions)\n",
    "final_rmse = np.sqrt(final_mse)\n",
    "print(\"testing data error: \", final_rmse)\n",
    "\n",
    "#how does the pipeline know where the input data is going\n",
    "\n"
   ]
  },
  {
   "cell_type": "code",
   "execution_count": null,
   "metadata": {},
   "outputs": [],
   "source": [
    "print(housing_labels.shape)"
   ]
  },
  {
   "cell_type": "code",
   "execution_count": null,
   "metadata": {},
   "outputs": [],
   "source": [
    "#checking through a pipeline the best strategy for better results\n",
    "from sklearn.model_selection import GridSearchCV\n",
    "\n",
    "param_grid = [\n",
    "        {'preparation_data__num__imputer__strategy': ['mean', 'median', 'most_frequent']}\n",
    "]\n",
    "\n",
    "grid_search_prep = GridSearchCV(final_pipeline, param_grid, cv=5,\n",
    "                                scoring='neg_mean_squared_error', verbose=2, n_jobs=4)\n",
    "grid_search_prep.fit(housing, housing_labels)\n",
    "grid_search_prep.best_params_"
   ]
  },
  {
   "cell_type": "code",
   "execution_count": null,
   "metadata": {},
   "outputs": [],
   "source": []
  },
  {
   "cell_type": "code",
   "execution_count": null,
   "metadata": {},
   "outputs": [],
   "source": [
    "\n"
   ]
  },
  {
   "cell_type": "code",
   "execution_count": null,
   "metadata": {},
   "outputs": [],
   "source": []
  },
  {
   "cell_type": "code",
   "execution_count": null,
   "metadata": {},
   "outputs": [],
   "source": []
  },
  {
   "cell_type": "code",
   "execution_count": null,
   "metadata": {},
   "outputs": [],
   "source": []
  },
  {
   "cell_type": "code",
   "execution_count": null,
   "metadata": {},
   "outputs": [],
   "source": []
  },
  {
   "cell_type": "code",
   "execution_count": null,
   "metadata": {},
   "outputs": [],
   "source": []
  },
  {
   "cell_type": "code",
   "execution_count": null,
   "metadata": {},
   "outputs": [],
   "source": []
  },
  {
   "cell_type": "code",
   "execution_count": null,
   "metadata": {},
   "outputs": [],
   "source": []
  },
  {
   "cell_type": "code",
   "execution_count": null,
   "metadata": {},
   "outputs": [],
   "source": []
  },
  {
   "cell_type": "code",
   "execution_count": null,
   "metadata": {},
   "outputs": [],
   "source": []
  }
 ],
 "metadata": {
  "kernelspec": {
   "display_name": "Python 3",
   "language": "python",
   "name": "python3"
  },
  "language_info": {
   "codemirror_mode": {
    "name": "ipython",
    "version": 3
   },
   "file_extension": ".py",
   "mimetype": "text/x-python",
   "name": "python",
   "nbconvert_exporter": "python",
   "pygments_lexer": "ipython3",
   "version": "3.6.7"
  }
 },
 "nbformat": 4,
 "nbformat_minor": 1
}
