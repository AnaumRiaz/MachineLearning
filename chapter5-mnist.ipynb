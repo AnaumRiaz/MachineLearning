{
 "cells": [
  {
   "cell_type": "code",
   "execution_count": null,
   "metadata": {},
   "outputs": [],
   "source": [
    "import pandas as pd\n",
    "import numpy as np\n",
    "from sklearn.datasets import fetch_mldata\n",
    "%matplotlib inline\n",
    "import matplotlib\n",
    "import matplotlib.pyplot as plt\n",
    "\n",
    "\n",
    "# import warnings\n",
    "# warnings.filterwarnings('ignore')\n",
    "\n",
    "\n",
    "\n",
    "\n",
    "\n",
    "try:\n",
    "    from sklearn.datasets import fetch_openml\n",
    "    mnist = fetch_openml('mnist_784', version=1, cache=True)\n",
    "except ImportError:\n",
    "    from sklearn.datasets import fetch_mldata\n",
    "    mnist = fetch_mldata('MNIST original')\n",
    "\n",
    "\n",
    "X, y = mnist[\"data\"], mnist[\"target\"]\n",
    "\n",
    "X_train, X_test, y_train, y_test = X[:60000], X[60000:], y[:60000], y[60000:]\n",
    "\n",
    "shuffle_index = np.random.permutation(60000)\n",
    "X_train, y_train = X_train[shuffle_index], y_train[shuffle_index]"
   ]
  },
  {
   "cell_type": "code",
   "execution_count": 3,
   "metadata": {},
   "outputs": [],
   "source": [
    "#pipeline mode\n",
    "from sklearn.pipeline import Pipeline\n",
    "from sklearn.preprocessing import StandardScaler\n",
    "from sklearn.svm import LinearSVC\n",
    "from sklearn.metrics import accuracy_score\n",
    "\n",
    "svm_linear = LinearSVC(random_state = 42, C = 1 )\n",
    "mnist_svm = Pipeline ([\n",
    "    ('scaled',  StandardScaler()),\n",
    "    ('svm', svm_linear)\n",
    "])\n",
    "\n",
    "mnist_svm.fit(X_train, y_train)\n",
    "\n",
    "y_pred = svm_linear.predict(X_train)\n",
    "accuracy_score(y_train, y_pred)"
   ]
  },
  {
   "cell_type": "code",
   "execution_count": 20,
   "metadata": {},
   "outputs": [
    {
     "data": {
      "text/plain": [
       "array([0.90354019, 0.90193301, 0.908     , 0.90197549, 0.90096699])"
      ]
     },
     "execution_count": 20,
     "metadata": {},
     "output_type": "execute_result"
    }
   ],
   "source": [
    "#cros validation score.  putting multi_class='ovr' in the classifier produces same result as putting nothing\n",
    "from sklearn.model_selection import cross_val_score\n",
    "\n",
    "scaler = StandardScaler()\n",
    "X_train_scaled = scaler.fit_transform(X_train)\n",
    "\n",
    "result = cross_val_score(svm_linear, X_train_scaled, y_train, cv = 5, scoring = \"accuracy\")\n",
    "result"
   ]
  },
  {
   "cell_type": "code",
   "execution_count": 21,
   "metadata": {},
   "outputs": [
    {
     "data": {
      "text/plain": [
       "array([0.90354019, 0.90193301, 0.908     , 0.90197549, 0.90096699])"
      ]
     },
     "execution_count": 21,
     "metadata": {},
     "output_type": "execute_result"
    }
   ],
   "source": [
    "#using poly kernel\n",
    "svmd = LinearSVC(C=10, loss=\"hinge\", random_state=42)\n",
    "\n",
    "# polynomial_svm_clf = Pipeline([\n",
    "#         (\"poly_features\", PolynomialFeatures(degree=3)),\n",
    "#         (\"scaler\", StandardScaler()),\n",
    "#         (\"svm_clf\", svmd)\n",
    "\n",
    "#     ])\n",
    "\n",
    "from sklearn.svm import SVR\n",
    "svm_poly_reg = SVR(kernel = 'poly', degree = 3,  C = 100, epsilon = 0.1)\n",
    "result = cross_val_score(svm_poly_reg, X_train_scaled, y_train, cv = 5, scoring = \"accuracy\")\n",
    "result"
   ]
  },
  {
   "cell_type": "code",
   "execution_count": null,
   "metadata": {},
   "outputs": [],
   "source": [
    "m = X_train.shape[0]\n",
    "X_tr_b1, X_tr_b2, X_tr_b3, X_tr_b4  = X_train_scaled[0:m/4], X_train_scaled[m/4:m/2], X_train_scaled[m/2:3*m/2], X_train_scaled[3*m/2] \n"
   ]
  },
  {
   "cell_type": "code",
   "execution_count": null,
   "metadata": {},
   "outputs": [],
   "source": []
  },
  {
   "cell_type": "code",
   "execution_count": null,
   "metadata": {},
   "outputs": [],
   "source": []
  }
 ],
 "metadata": {
  "kernelspec": {
   "display_name": "Python 3",
   "language": "python",
   "name": "python3"
  },
  "language_info": {
   "codemirror_mode": {
    "name": "ipython",
    "version": 3
   },
   "file_extension": ".py",
   "mimetype": "text/x-python",
   "name": "python",
   "nbconvert_exporter": "python",
   "pygments_lexer": "ipython3",
   "version": "3.6.7"
  }
 },
 "nbformat": 4,
 "nbformat_minor": 2
}
