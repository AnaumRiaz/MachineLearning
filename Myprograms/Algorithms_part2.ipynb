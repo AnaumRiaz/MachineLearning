{
 "cells": [
  {
   "cell_type": "code",
   "execution_count": 106,
   "metadata": {},
   "outputs": [],
   "source": [
    "#graphs\n",
    "\n",
    "class Graph():\n",
    "    def __init__(self, inp):\n",
    "        self.V = inp[0]\n",
    "        self.E = inp[1]\n",
    "        self.adj_l = [[] for i in range(self.V)]\n",
    "            \n",
    "        for v1,v2 in inp[2:]:\n",
    "            self.adj_l[v1].append(v2)\n",
    "            self.adj_l[v2].append(v1)\n",
    "            \n",
    "    def add_edge(self, v1, v2):\n",
    "        self.adj_l[v1].append(v2)\n",
    "        self.adj_l[v2].append(v1)\n",
    "        \n",
    "    def adj(self, v):\n",
    "        return self.adj_l[v]\n",
    "    \n",
    "    def num_vert(self):\n",
    "        return self.V\n",
    "    \n",
    "    def num_edges(self):\n",
    "        return self.E\n",
    "    \n",
    "    def printadj(self):\n",
    "        for i in range(self.V):\n",
    "            print(i, self.adj_l[i])\n",
    "\n",
    "\n",
    "class Paths():\n",
    "    def __init__(self, graph, vertex_s):\n",
    "        self.G = graph\n",
    "        self.s_v = vertex_s\n",
    "        \n",
    "    def hasDirectPathTo(self, vertex):\n",
    "        return (vertex in self.G.adj[self.s_v])\n",
    "    \n",
    "   \n",
    "        \n",
    "class dfPaths():\n",
    "    def __init__(self, graph, source_vertex):\n",
    "        self.marked = [0 for i in range(graph.num_vert())]\n",
    "        self.edgeTo = ['-1' for i in range(graph.num_vert())]\n",
    "        self.s_v = source_vertex\n",
    "        self.graph = graph\n",
    "        \n",
    "    def dfs(self, start_vertex=None):\n",
    "        if start_vertex is None:\n",
    "            start_vertex = self.s_v \n",
    "        \n",
    "        self.marked[start_vertex] = 1\n",
    "        adj_v = self.graph.adj(start_vertex)\n",
    "        for vertex in adj_v:\n",
    "            if self.marked[vertex] == 0:\n",
    "                self.marked[vertex] = 1\n",
    "                self.edgeTo[vertex] = start_vertex\n",
    "                self.dfs(vertex)\n",
    "\n",
    "    \n",
    "    def Path(self, vert):\n",
    "            mpath = []\n",
    "            while vert != self.s_v:\n",
    "                mpath.append(vert)\n",
    "                vert = self.edgeTo[vert]\n",
    "            mpath.append(self.s_v)\n",
    "            return mpath\n",
    "            \n",
    "\n",
    "    def print_structs(self):\n",
    "        print('marked:', self.marked)\n",
    "        print('EdgeTo', self.edgeTo)\n",
    "        \n"
   ]
  },
  {
   "cell_type": "code",
   "execution_count": 107,
   "metadata": {},
   "outputs": [
    {
     "name": "stdout",
     "output_type": "stream",
     "text": [
      "marked: [1, 1, 1, 1, 1, 1, 1, 0, 0, 0, 0, 0, 0]\n",
      "EdgeTo ['-1', 0, 0, 5, 3, 0, 4, '-1', '-1', '-1', '-1', '-1', '-1']\n"
     ]
    }
   ],
   "source": [
    "#input stream. first int= num_vert; 2 int= num_ edges. then all the edges\n",
    "inp_s = [13, 13, [0,1],[0,2],[0,5],[0,6],[3,5],[3,4],[4,5],[4,6],[7,8], [9,10],[9,11],[9,12],[11,12]]\n",
    "\n",
    "mg = Graph(inp_s)\n",
    "mg_p0 = dfPaths(mg, 0)\n",
    "mg_p0.dfs()\n",
    "mg_p0.print_structs()\n",
    "#printing paths. we can see that they are not optimized\n",
    "mg_p0.Path(4)"
   ]
  },
  {
   "cell_type": "code",
   "execution_count": 103,
   "metadata": {},
   "outputs": [
    {
     "data": {
      "text/plain": [
       "[4, 3, 5, 0]"
      ]
     },
     "execution_count": 103,
     "metadata": {},
     "output_type": "execute_result"
    }
   ],
   "source": []
  },
  {
   "cell_type": "code",
   "execution_count": 101,
   "metadata": {},
   "outputs": [
    {
     "data": {
      "text/plain": [
       "True"
      ]
     },
     "execution_count": 101,
     "metadata": {},
     "output_type": "execute_result"
    }
   ],
   "source": [
    "5 in [4,2,5,3]"
   ]
  },
  {
   "cell_type": "code",
   "execution_count": null,
   "metadata": {},
   "outputs": [],
   "source": []
  }
 ],
 "metadata": {
  "kernelspec": {
   "display_name": "Python 3",
   "language": "python",
   "name": "python3"
  },
  "language_info": {
   "codemirror_mode": {
    "name": "ipython",
    "version": 3
   },
   "file_extension": ".py",
   "mimetype": "text/x-python",
   "name": "python",
   "nbconvert_exporter": "python",
   "pygments_lexer": "ipython3",
   "version": "3.6.9"
  }
 },
 "nbformat": 4,
 "nbformat_minor": 2
}
