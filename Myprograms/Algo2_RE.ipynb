{
 "cells": [
  {
   "cell_type": "code",
   "execution_count": 88,
   "metadata": {},
   "outputs": [
    {
     "data": {
      "text/plain": [
       "True"
      ]
     },
     "execution_count": 88,
     "metadata": {},
     "output_type": "execute_result"
    }
   ],
   "source": [
    "#makign an Non-deterministic FiniteState Automoton\n",
    "\n",
    "class diagraph():\n",
    "    def __init__(self, num_vert, inp=None):\n",
    "        if inp is not None:\n",
    "            self.V = inp[0]\n",
    "            self.E = inp[1]\n",
    "            self.adj_l = [[] for i in range(self.V)]\n",
    "            \n",
    "            for v1,v2 in inp[2:]:\n",
    "                self.adj_l[v1].append(v2)\n",
    "#             self.adj_l[v2].append(v1)\n",
    "        else:\n",
    "            self.V, self.E = num_vert, 0\n",
    "            self.adj_l = [[] for i in range(self.V)]\n",
    "            \n",
    "    def addEdge(self, v1, v2): \n",
    "        self.E += 1\n",
    "        self.adj_l[v1].append(v2)\n",
    "        \n",
    "    def adj(self, v):\n",
    "        return self.adj_l[v]\n",
    "    \n",
    "    def num_vert(self):\n",
    "        return self.V\n",
    "    \n",
    "    def num_edges(self):\n",
    "        return self.E\n",
    "    \n",
    "    def printadj(self):\n",
    "        for i in range(self.V):\n",
    "            print(i, self.adj_l[i])\n",
    "            \n",
    "class DirectedDFS():\n",
    "    def __init__(self, diagraph, s):\n",
    "        self.diagraph = diagraph\n",
    "        self.s_v = s\n",
    "        self.marked = [0 for i in range(self.diagraph.V)]\n",
    "\n",
    "    def reachable(self, s):\n",
    "        if self.marked[s] == 1:\n",
    "            return True\n",
    "        else: return False\n",
    "            \n",
    "    def dfs(self, start_vertex=None):\n",
    "        if start_vertex is None:\n",
    "            start_vertex = self.s_v \n",
    "            \n",
    "        if type(start_vertex) == int: \n",
    "            start_vertex = [start_vertex]\n",
    "        for v in start_vertex:\n",
    "            self.marked[v] = 1\n",
    "            adj_v = self.diagraph.adj(v)\n",
    "            for vertex in adj_v:\n",
    "                 if self.marked[vertex] == 0:\n",
    "                    self.marked[vertex] = 1\n",
    "                    self.dfs(vertex)\n",
    "\n",
    "class NFA:\n",
    "    def __init__(self, re):\n",
    "        self.re = re\n",
    "        self.M = len(re)\n",
    "        self.graph_re = diagraph(self.M+1)\n",
    "        \n",
    "    def buildEpsilonTransitionDigraph(self): \n",
    "#         graph_re = diagraph(self.M+1)\n",
    "        stack_ops = []\n",
    "        \n",
    "        for i in range(self.M):\n",
    "            lp = i      \n",
    "            if (re[i] == '(' or re[i] == '|'): stack_ops.insert(0, i)\n",
    "       \n",
    "            elif (re[i] == ')'):\n",
    "                or_i = stack_ops.pop(0)  \n",
    "                if (re[or_i] == '|'):\n",
    "                    lp = stack_ops.pop(0)       #because of 'or', we are now looking for the left paranthesis\n",
    "                    self.graph_re.addEdge(lp, or_i+1)    \n",
    "                    self.graph_re.addEdge(or_i, i)\n",
    "                else: lp = or_i\n",
    "            \n",
    "           \n",
    "            if (i < self.M-1 and re[i+1] == '*'): #closure for star\n",
    "                self.graph_re.addEdge(lp, i+1)     \n",
    "                self.graph_re.addEdge(i+1, lp)\n",
    "                \n",
    "            if (i < self.M-1 and re[i+1] == '+'): #closure for plus\n",
    "                self.graph_re.addEdge(lp, i+1)  \n",
    "                \n",
    "            if (re[i] == '(' or re[i] == '*' or re[i] == ')' or re[i] == '+'):\n",
    "                self.graph_re.addEdge(i, i+1) \n",
    "#         self.graph_re.printadj()\n",
    "        return self.graph_re\n",
    "    \n",
    "    def recognizes(self, inp):\n",
    "        pc = []    #possible states  \n",
    "        dfo = DirectedDFS(self.graph_re, 0)  #allstates reachable by 0 are marked in dfo.marked\n",
    "        dfo.dfs()\n",
    "        \n",
    "        for v in range(self.graph_re.num_vert()):\n",
    "            if (dfo.marked[v]):\n",
    "                pc.append(v)\n",
    "            \n",
    "        for i in range(len(inp)):    \n",
    "            match = []     \n",
    "            for v in pc:        \n",
    "                if (v == self.M): continue #we are in accept state, so we leave\n",
    "                if (self.re[v] == inp[i] or re[v] == '.'):  #just looking for matching alphabets      \n",
    "                    match.append(v+1)\n",
    "                \n",
    "            dfo_next = DirectedDFS(self.graph_re, match)\n",
    "            dfo_next.dfs()\n",
    "            \n",
    "            pc = []\n",
    "                        \n",
    "            for v in range(self.graph_re.num_vert()):\n",
    "                if (dfo_next.marked[v]): pc.append(v)\n",
    "            \n",
    "            for v in pc:\n",
    "                if (v == self.M): return True \n",
    "        return False\n",
    "                \n",
    "re = '(A*B|AC)D'\n",
    "# re = '(A*C|WB)'\n",
    "auto = NFA(re)\n",
    "auto.buildEpsilonTransitionDigraph()\n",
    "inp = 'ACD'\n",
    "auto.recognizes(inp)"
   ]
  },
  {
   "cell_type": "code",
   "execution_count": 52,
   "metadata": {},
   "outputs": [
    {
     "data": {
      "text/plain": [
       "False"
      ]
     },
     "execution_count": 52,
     "metadata": {},
     "output_type": "execute_result"
    }
   ],
   "source": [
    "a=type(5)\n",
    "a== 'int'"
   ]
  },
  {
   "cell_type": "code",
   "execution_count": 29,
   "metadata": {},
   "outputs": [
    {
     "data": {
      "text/plain": [
       "[10, 5, 6, 8, 9]"
      ]
     },
     "execution_count": 29,
     "metadata": {},
     "output_type": "execute_result"
    }
   ],
   "source": [
    "lit = [5,6,8,9]\n",
    "lit.insert(0, 10)\n",
    "lit"
   ]
  },
  {
   "cell_type": "code",
   "execution_count": 28,
   "metadata": {},
   "outputs": [
    {
     "data": {
      "text/plain": [
       "[6, 8, 9]"
      ]
     },
     "execution_count": 28,
     "metadata": {},
     "output_type": "execute_result"
    }
   ],
   "source": [
    "lit"
   ]
  },
  {
   "cell_type": "code",
   "execution_count": null,
   "metadata": {},
   "outputs": [],
   "source": []
  }
 ],
 "metadata": {
  "kernelspec": {
   "display_name": "Python 3",
   "language": "python",
   "name": "python3"
  },
  "language_info": {
   "codemirror_mode": {
    "name": "ipython",
    "version": 3
   },
   "file_extension": ".py",
   "mimetype": "text/x-python",
   "name": "python",
   "nbconvert_exporter": "python",
   "pygments_lexer": "ipython3",
   "version": "3.6.9"
  }
 },
 "nbformat": 4,
 "nbformat_minor": 2
}
